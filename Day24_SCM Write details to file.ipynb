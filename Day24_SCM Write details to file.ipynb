{
 "cells": [
  {
   "cell_type": "code",
   "execution_count": null,
   "id": "0e83343b-ac89-4855-9b0a-5c7487af9072",
   "metadata": {},
   "outputs": [],
   "source": []
  },
  {
   "cell_type": "code",
   "execution_count": 4,
   "id": "58cd8ba2-c68c-4ea2-b313-c904d44d14e1",
   "metadata": {},
   "outputs": [
    {
     "name": "stdin",
     "output_type": "stream",
     "text": [
      "Enter the product name:  Laptop\n",
      "Enter stock quantity:  2000\n",
      "Enter price per unit:  20\n"
     ]
    },
    {
     "name": "stdout",
     "output_type": "stream",
     "text": [
      "Product details written to Inventory.txt\n"
     ]
    }
   ],
   "source": [
    "\n",
    "class Product:\n",
    "    def __init__(self, name, stock, price_per_unit):  # Fixed __init__\n",
    "        self.name = name\n",
    "        self.stock = stock\n",
    "        self.price_per_unit = price_per_unit\n",
    "\n",
    "    def stockvalue(self):\n",
    "        value = self.stock * self.price_per_unit\n",
    "        return value\n",
    "\n",
    "# Get input from user\n",
    "prname = input(\"Enter the product name: \")\n",
    "stock = int(input(\"Enter stock quantity: \"))\n",
    "price = int(input(\"Enter price per unit: \"))\n",
    "\n",
    "# Create product object\n",
    "pr = Product(prname, stock, price)\n",
    "\n",
    "# Write to file\n",
    "with open(\"Inventory.txt\", \"w\") as f:\n",
    "    f.write(f\"Product: {pr.name}\\n\")\n",
    "    f.write(f\"Stock: {pr.stock}\\n\")\n",
    "    f.write(f\"Price per unit: {pr.price_per_unit}\\n\")\n",
    "    f.write(f\"Stock Value: {pr.stockvalue()}\\n\")\n",
    "\n",
    "print(\"Product details written to Inventory.txt\")\n",
    "\n"
   ]
  },
  {
   "cell_type": "code",
   "execution_count": null,
   "id": "029e706e-8268-4b66-9ab9-579530a82b22",
   "metadata": {},
   "outputs": [],
   "source": []
  }
 ],
 "metadata": {
  "kernelspec": {
   "display_name": "anaconda-panel-2023.05-py310",
   "language": "python",
   "name": "conda-env-anaconda-panel-2023.05-py310-py"
  },
  "language_info": {
   "codemirror_mode": {
    "name": "ipython",
    "version": 3
   },
   "file_extension": ".py",
   "mimetype": "text/x-python",
   "name": "python",
   "nbconvert_exporter": "python",
   "pygments_lexer": "ipython3",
   "version": "3.11.5"
  }
 },
 "nbformat": 4,
 "nbformat_minor": 5
}
