{
 "cells": [
  {
   "cell_type": "code",
   "execution_count": 9,
   "id": "7fac0c3c-543b-4811-a323-86b73afdc3a2",
   "metadata": {},
   "outputs": [
    {
     "name": "stdout",
     "output_type": "stream",
     "text": [
      "Welcome to stock survival Game!\n",
      "Sold 8 units. Remaining stock: 192\n",
      "Sold 8 units. Remaining stock: 184\n",
      "Sold 11 units. Remaining stock: 173\n",
      "Sold 13 units. Remaining stock: 160\n",
      "Sold 18 units. Remaining stock: 142\n",
      "Sold 5 units. Remaining stock: 137\n",
      "Sold 7 units. Remaining stock: 130\n",
      "Sold 20 units. Remaining stock: 110\n",
      "Sold 9 units. Remaining stock: 101\n",
      "Sold 17 units. Remaining stock: 84\n"
     ]
    },
    {
     "name": "stdin",
     "output_type": "stream",
     "text": [
      "Do you wish you to restock: Y or N Y\n",
      "Enter the Leadtime 15\n",
      "What is the mode of transport ? Air, Sea , Road ? Air\n",
      "The quantity you wish to restock 30\n"
     ]
    },
    {
     "name": "stdout",
     "output_type": "stream",
     "text": [
      "114\n"
     ]
    }
   ],
   "source": [
    "import random\n",
    "\n",
    "print(\"Welcome to stock survival Game!\")\n",
    "Stock = 200\n",
    "day = 10\n",
    "\n",
    "\n",
    "\n",
    "for day in range(1,day+1):\n",
    "    daily_sales = random.randint(5,25)\n",
    "    Stock -= daily_sales\n",
    "    if Stock < daily_sales:\n",
    "        print(f\"Stock out! Only {Stock} units left, but demand was {daily_sales}.\")\n",
    "\n",
    "    else:\n",
    "        print(f\"Sold {daily_sales} units. Remaining stock: {Stock}\")\n",
    "\n",
    "\n",
    "stockup = input(\"Do you wish you to restock: Y or N\")\n",
    "\n",
    "if stockup == 'Y':\n",
    "    LT = int(input(\"Enter the Leadtime\"))\n",
    "    if LT <= 20:\n",
    "        Transportmode = input(\"What is the mode of transport ? Air, Sea , Road ?\")\n",
    "        if Transportmode == \"Air\":\n",
    "            restock = int(input(\"The quantity you wish to restock\"))\n",
    "            Stock += restock\n",
    "            print(Stock)\n",
    "        else:\n",
    "            print(\"Opt for Air mode transport, Since it has less leadtime\")\n",
    "\n",
    "    else:\n",
    "        print(\"Leadtime is too high\")\n",
    "        \n",
    "\n",
    "else:\n",
    "    print(\"Game Over\")\n",
    "        \n",
    "    \n",
    "    \n",
    "\n",
    "\n",
    "\n",
    "\n",
    "\n",
    "\n",
    "\n",
    "\n",
    "    "
   ]
  },
  {
   "cell_type": "code",
   "execution_count": null,
   "id": "05a80c4d-4c64-4040-8af3-16ae6fdc2a55",
   "metadata": {},
   "outputs": [],
   "source": []
  }
 ],
 "metadata": {
  "kernelspec": {
   "display_name": "anaconda-panel-2023.05-py310",
   "language": "python",
   "name": "conda-env-anaconda-panel-2023.05-py310-py"
  },
  "language_info": {
   "codemirror_mode": {
    "name": "ipython",
    "version": 3
   },
   "file_extension": ".py",
   "mimetype": "text/x-python",
   "name": "python",
   "nbconvert_exporter": "python",
   "pygments_lexer": "ipython3",
   "version": "3.11.5"
  }
 },
 "nbformat": 4,
 "nbformat_minor": 5
}
