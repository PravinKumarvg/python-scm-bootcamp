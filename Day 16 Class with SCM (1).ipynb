{
 "cells": [
  {
   "cell_type": "code",
   "execution_count": 6,
   "id": "65aea9c2-485b-425c-a724-337ee6613aa2",
   "metadata": {},
   "outputs": [
    {
     "name": "stdin",
     "output_type": "stream",
     "text": [
      "Enter the demand value: 1000\n",
      "Enter the primary ratio: 50\n"
     ]
    },
    {
     "data": {
      "text/plain": [
       "(500.0, 500.0)"
      ]
     },
     "execution_count": 6,
     "metadata": {},
     "output_type": "execute_result"
    }
   ],
   "source": [
    "#Demand Split Calculator\n",
    "\n",
    "def split_demand(total_demand, primary_ratio):\n",
    "\n",
    "    primarydemand = total_demand *(primary_ratio/100)\n",
    "    secondary = total_demand - primarydemand\n",
    "\n",
    "    return primarydemand, secondary\n",
    "\n",
    "\n",
    "total_dem = int(input(\"Enter the demand value:\"))\n",
    "primary_rat = float(input(\"Enter the primary ratio:\"))\n",
    "\n",
    "split_demand(total_dem, primary_rat)\n",
    "    "
   ]
  },
  {
   "cell_type": "code",
   "execution_count": 27,
   "id": "27d32dbf-0954-477a-8acb-3560b612e20f",
   "metadata": {},
   "outputs": [
    {
     "name": "stdout",
     "output_type": "stream",
     "text": [
      "Sold 50 units\n",
      "Restocked 30 units\n",
      "Stockvalue : 7600\n"
     ]
    }
   ],
   "source": [
    "\n",
    "class Warehouse:\n",
    "    def __init__(self):\n",
    "        self.product = {}\n",
    "\n",
    "    def add_product(self, name, stock):\n",
    "        self.product[name] = stock\n",
    "        print(f\"The product '{name}' has {stock} units.\")\n",
    "\n",
    "    def sell_product(self, name, qty):\n",
    "        if name in self.product:\n",
    "            if self.product[name] >= qty:\n",
    "                self.product[name] -= qty\n",
    "                print(f\"Sold {qty} units of '{name}'. Remaining stock: {self.product[name]}\")\n",
    "            else:\n",
    "                print(f\"Not enough stock to sell {qty} units of '{name}'. Available: {self.product[name]}\")\n",
    "        else:\n",
    "            print(f\"Product '{name}' not found in warehouse.\")\n",
    "\n",
    "    def restock_product(self, name, qty):\n",
    "        if name in self.product:\n",
    "            self.product[name] += qty\n",
    "            print(f\"Restocked {qty} units of '{name}'. New stock: {self.product[name]}\")\n",
    "        else:\n",
    "            print(f\"Product '{name}' not found in warehouse.\")\n",
    "\n",
    "    def show_inventory(self):\n",
    "        print(\"Current Inventory:\")\n",
    "        for name, units in self.product.items():\n",
    "            print(f\"- {name}: {units} units\")\n",
    "#Class SCM\n",
    "\n",
    "class Product:\n",
    "    def __init__(self, name, stock, price_per_unit):\n",
    "        self.name = name\n",
    "        self.stock = stock\n",
    "        self.price_per_unit = price_per_unit\n",
    "\n",
    "    def sell(self,units):\n",
    "        self.stock -= units\n",
    "        print(f\"Sold {units} units\")\n",
    "\n",
    "    def restock(self,restock):\n",
    "        self.stock += restock\n",
    "        print(f\"Restocked {restock} units\")\n",
    "\n",
    "    def stockvalue(self):\n",
    "        stockval = self.stock * self.price_per_unit\n",
    "        print(f\"Stockvalue : {stockval}\")\n",
    "\n",
    "\n",
    "\n",
    "p1 = Product(\"Laptop\", 400, 20)\n",
    "\n",
    "\n",
    "p1.sell(50)\n",
    "p1.restock(30)\n",
    "p1.stockvalue()\n",
    "\n",
    "\n",
    "    \n"
   ]
  },
  {
   "cell_type": "code",
   "execution_count": 13,
   "id": "2aabe3df-7500-46d4-ab3b-4b2d623f42d0",
   "metadata": {},
   "outputs": [
    {
     "name": "stdout",
     "output_type": "stream",
     "text": [
      "The product 'Laptop' has 300 units.\n",
      "Sold 250 units of 'Laptop'. Remaining stock: 50\n",
      "Restocked 200 units of 'Laptop'. New stock: 250\n",
      "The product 'Mobile' has 800 units.\n",
      "Sold 150 units of 'Mobile'. Remaining stock: 650\n",
      "Restocked 300 units of 'Mobile'. New stock: 950\n"
     ]
    }
   ],
   "source": [
    "#SCM Inventory Class Example\n",
    "class Warehouse:\n",
    "    def __init__(self):\n",
    "        self.product = {}\n",
    "\n",
    "    def add_product(self, name, stock):\n",
    "        self.product[name] = stock\n",
    "        print(f\"The product '{name}' has {stock} units.\")\n",
    "\n",
    "    def sell_product(self, name, qty):\n",
    "        if name in self.product:\n",
    "            if self.product[name] >= qty:\n",
    "                self.product[name] -= qty\n",
    "                print(f\"Sold {qty} units of '{name}'. Remaining stock: {self.product[name]}\")\n",
    "            else:\n",
    "                print(f\"Not enough stock to sell {qty} units of '{name}'. Available: {self.product[name]}\")\n",
    "        else:\n",
    "            print(f\"Product '{name}' not found in warehouse.\")\n",
    "\n",
    "    def restock_product(self, name, qty):\n",
    "        if name in self.product:\n",
    "            self.product[name] += qty\n",
    "            print(f\"Restocked {qty} units of '{name}'. New stock: {self.product[name]}\")\n",
    "        else:\n",
    "            print(f\"Product '{name}' not found in warehouse.\")\n",
    "\n",
    "    def show_inventory(self):\n",
    "        print(\"Current Inventory:\")\n",
    "        for name, units in self.product.items():\n",
    "            print(f\"- {name}: {units} units\")\n",
    "\n",
    "\n",
    "\n",
    "w = Warehouse()\n",
    "w.add_product(\"Laptop\", 300)\n",
    "w.sell_product(\"Laptop\", 250)\n",
    "w.restock_product(\"Laptop\", 200)\n",
    "w.add_product(\"Mobile\", 800)\n",
    "w.sell_product(\"Mobile\", 150)\n",
    "w.restock_product(\"Mobile\", 300)\n",
    "        \n",
    "    \n",
    "        \n",
    "        \n",
    "    "
   ]
  },
  {
   "cell_type": "code",
   "execution_count": null,
   "id": "cbebcc8b-98b1-41f4-8bda-4695a31c2c8e",
   "metadata": {},
   "outputs": [],
   "source": []
  }
 ],
 "metadata": {
  "kernelspec": {
   "display_name": "anaconda-panel-2023.05-py310",
   "language": "python",
   "name": "conda-env-anaconda-panel-2023.05-py310-py"
  },
  "language_info": {
   "codemirror_mode": {
    "name": "ipython",
    "version": 3
   },
   "file_extension": ".py",
   "mimetype": "text/x-python",
   "name": "python",
   "nbconvert_exporter": "python",
   "pygments_lexer": "ipython3",
   "version": "3.11.5"
  }
 },
 "nbformat": 4,
 "nbformat_minor": 5
}
