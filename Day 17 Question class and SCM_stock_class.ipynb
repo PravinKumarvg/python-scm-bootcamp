{
 "cells": [
  {
   "cell_type": "code",
   "execution_count": 8,
   "id": "5c8a7cc2-e82f-44dc-bc9b-06018464ab8f",
   "metadata": {},
   "outputs": [
    {
     "name": "stdin",
     "output_type": "stream",
     "text": [
      "what is 2+3 5\n"
     ]
    },
    {
     "name": "stdout",
     "output_type": "stream",
     "text": [
      "Correct answer!\n"
     ]
    },
    {
     "name": "stdin",
     "output_type": "stream",
     "text": [
      "what is 4+3 7\n"
     ]
    },
    {
     "name": "stdout",
     "output_type": "stream",
     "text": [
      "Correct answer!\n"
     ]
    },
    {
     "name": "stdin",
     "output_type": "stream",
     "text": [
      "what is 7+3 10\n"
     ]
    },
    {
     "name": "stdout",
     "output_type": "stream",
     "text": [
      "Correct answer!\n"
     ]
    },
    {
     "name": "stdin",
     "output_type": "stream",
     "text": [
      "what is 1+3 4\n"
     ]
    },
    {
     "name": "stdout",
     "output_type": "stream",
     "text": [
      "Correct answer!\n"
     ]
    },
    {
     "name": "stdin",
     "output_type": "stream",
     "text": [
      "what is 6+6 12\n"
     ]
    },
    {
     "name": "stdout",
     "output_type": "stream",
     "text": [
      "Correct answer!\n",
      "Your final score is 5\n"
     ]
    }
   ],
   "source": [
    "#Question Class\n",
    "\n",
    "class question():\n",
    "    def __init__(self, ques, ans):\n",
    "        self.ques = ques\n",
    "        self.ans = ans\n",
    "\n",
    "\n",
    "    def correctans(self):\n",
    "        \n",
    "    \n",
    "        user_input = input(f\"{self.ques}\")\n",
    "        return user_input.strip() == str(self.ans)\n",
    "         \n",
    "\n",
    "        \n",
    "Questions = [\n",
    "\n",
    "question(\"what is 2+3\", 5),\n",
    "question(\"what is 4+3\", 7),\n",
    "question(\"what is 7+3\", 10),\n",
    "question(\"what is 1+3\", 4),\n",
    "question(\"what is 6+6\", 12)]\n",
    "\n",
    "score = 0\n",
    "for i in Questions:\n",
    "    if i.correctans():\n",
    "        score +=1\n",
    "        print(\"Correct answer!\")\n",
    "    else:\n",
    "        print(\"Wrong answer\")\n",
    "        break\n",
    "\n",
    "print(f\"Your final score is {score}\")\n",
    "\n",
    "            \n",
    "        "
   ]
  },
  {
   "cell_type": "code",
   "execution_count": null,
   "id": "0fecdd3e-dcf0-4dca-9280-5af151356169",
   "metadata": {},
   "outputs": [],
   "source": [
    "#Turtle\n",
    "\n",
    "%gui tk\n",
    "import turtle\n",
    "\n",
    "wn = turtle.Screen()\n",
    "wn.bgcolor(\"lightgreen\")\n",
    "\n",
    "t = turtle.Turtle()\n",
    "t.forward(100)\n",
    "wn.mainloop()"
   ]
  },
  {
   "cell_type": "code",
   "execution_count": 17,
   "id": "71149f9e-7fc0-4134-919e-c268a5ce80ed",
   "metadata": {},
   "outputs": [
    {
     "name": "stdout",
     "output_type": "stream",
     "text": [
      "Laptop | stock :50 | Price : 70000\n",
      "Mobile | stock :100 | Price : 50000\n"
     ]
    }
   ],
   "source": [
    "#Class SCM\n",
    "\n",
    "class product():\n",
    "    def __init__(self, name, stock, price):\n",
    "        self.name = name\n",
    "        self.stock = stock\n",
    "        self.price = price\n",
    "\n",
    "\n",
    "p1 = product(\"Laptop\", 50, 70000)\n",
    "p2 = product(\"Mobile\",100, 50000)\n",
    "print(f\"{p1.name} | stock :{p1.stock} | Price : {p1.price}\")\n",
    "print(f\"{p2.name} | stock :{p2.stock} | Price : {p2.price}\")\n",
    "\n"
   ]
  },
  {
   "cell_type": "code",
   "execution_count": null,
   "id": "a3596af6-fbab-4e29-a83a-1d2a6faeb435",
   "metadata": {},
   "outputs": [],
   "source": []
  }
 ],
 "metadata": {
  "kernelspec": {
   "display_name": "anaconda-panel-2023.05-py310",
   "language": "python",
   "name": "conda-env-anaconda-panel-2023.05-py310-py"
  },
  "language_info": {
   "codemirror_mode": {
    "name": "ipython",
    "version": 3
   },
   "file_extension": ".py",
   "mimetype": "text/x-python",
   "name": "python",
   "nbconvert_exporter": "python",
   "pygments_lexer": "ipython3",
   "version": "3.11.5"
  }
 },
 "nbformat": 4,
 "nbformat_minor": 5
}
