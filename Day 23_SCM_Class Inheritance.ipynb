{
 "cells": [
  {
   "cell_type": "code",
   "execution_count": 4,
   "id": "2141b10d-e53d-44c5-b7fe-ddc353516996",
   "metadata": {},
   "outputs": [
    {
     "name": "stdout",
     "output_type": "stream",
     "text": [
      "Laptop (Non-Perishable): Warranty 2 years → Stock Value = 600000\n",
      "Milk (Perishable): Expiry 2024-09-10 → Stock Value = 5000\n"
     ]
    }
   ],
   "source": [
    "#SCM Class Inheritance\n",
    "\n",
    "class Product:\n",
    "    def __init__(self,name, stock, price_per_unit):\n",
    "        self.name = name\n",
    "        self.stock = stock\n",
    "        self.price_per_unit = price_per_unit\n",
    "\n",
    "\n",
    "    def stock_value(self):\n",
    "\n",
    "        value = self.stock*self.price_per_unit\n",
    "        return value\n",
    "\n",
    "    def sellunits(self, units):\n",
    "\n",
    "        self.stock -= units\n",
    "        return self.stock\n",
    "\n",
    "\n",
    "class NonPerishableProduct(Product):\n",
    "    def __init__(self, name, stock, price_per_unit, warranty_years):\n",
    "        #super().init to inherit all method from the parent class.\n",
    "        super().__init__(name, stock, price_per_unit)\n",
    "        self.warranty_years = warranty_years\n",
    "\n",
    "    def __str__(self):\n",
    "        return f\"{self.name} (Non-Perishable): Warranty {self.warranty_years} years → Stock Value = {self.stock_value()}\"\n",
    "\n",
    "class PerishableProduct(Product):\n",
    "    def __init__(self, name, stock, price_per_unit, expiry_date):\n",
    "        super().__init__(name, stock, price_per_unit)\n",
    "        self.expiry_date = expiry_date\n",
    "\n",
    "    def __str__(self):\n",
    "        return f\"{self.name} (Perishable): Expiry {self.expiry_date} → Stock Value = {self.stock_value()}\"\n",
    "\n",
    "\n",
    "\n",
    "pr1 = Product(\"Laptop\", 2000, 30)\n",
    "\n",
    "\n",
    "\n",
    "\n",
    "np_product = NonPerishableProduct(\"Laptop\", 2000, 300, 2)\n",
    "p_product = PerishableProduct(\"Milk\", 100, 50, \"2024-09-10\")\n",
    "\n",
    "# Print output\n",
    "print(np_product)\n",
    "print(p_product)\n",
    "\n",
    "\n",
    "\n",
    "        \n",
    "    "
   ]
  },
  {
   "cell_type": "code",
   "execution_count": null,
   "id": "c98a3f84-b4f6-4dfe-bff3-3eee654e292a",
   "metadata": {},
   "outputs": [],
   "source": []
  }
 ],
 "metadata": {
  "kernelspec": {
   "display_name": "anaconda-panel-2023.05-py310",
   "language": "python",
   "name": "conda-env-anaconda-panel-2023.05-py310-py"
  },
  "language_info": {
   "codemirror_mode": {
    "name": "ipython",
    "version": 3
   },
   "file_extension": ".py",
   "mimetype": "text/x-python",
   "name": "python",
   "nbconvert_exporter": "python",
   "pygments_lexer": "ipython3",
   "version": "3.11.5"
  }
 },
 "nbformat": 4,
 "nbformat_minor": 5
}
