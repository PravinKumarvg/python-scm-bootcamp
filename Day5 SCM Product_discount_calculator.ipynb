{
 "cells": [
  {
   "cell_type": "code",
   "execution_count": 6,
   "id": "cdb24866-e86b-4568-b3cc-29106c9380da",
   "metadata": {},
   "outputs": [
    {
     "name": "stdout",
     "output_type": "stream",
     "text": [
      "Welcome to Discount Calculator\n"
     ]
    },
    {
     "name": "stdin",
     "output_type": "stream",
     "text": [
      "What product would you like to order ? Heater\n",
      "How many would you like to order ? 60\n"
     ]
    },
    {
     "name": "stdout",
     "output_type": "stream",
     "text": [
      "Congrats, You have 5% discount and your final price is Rs.570.00\n"
     ]
    }
   ],
   "source": [
    "# SCM Discount Calculator\n",
    "\n",
    "print(\"Welcome to Discount Calculator\")\n",
    "\n",
    "Product = input(\"What product would you like to order ?\")\n",
    "Qty = int(input(\"How many would you like to order ?\"))\n",
    "\n",
    "Unit_price = 10\n",
    "Total_amount = Qty * Unit_price\n",
    "\n",
    "if Qty >= 100:\n",
    "    dis_qty = (10/100)*Total_amount\n",
    "    finalprice5 = Total_amount - dis_qty\n",
    "    print(f\"Congrats, You have 10% discount and your final price is Rs.{finalprice5:.2f}\")\n",
    "    \n",
    "\n",
    "elif Qty >= 50:\n",
    "    dis_qty1 = (5/100)*Total_amount\n",
    "    finalprice10 = Total_amount - dis_qty1\n",
    "    print(f\"Congrats, You have 5% discount and your final price is Rs.{finalprice10:.2f}\")\n",
    "\n",
    "else:\n",
    "    final_price = Total_amount\n",
    "    print(\"No discount applied.\")\n",
    "    print(f\"Your final bill is Rs{final_price:.2f}\")                                                                       \n",
    "\n",
    "\n",
    "\n",
    "\n",
    "\n",
    "\n",
    "\n",
    "\n",
    "\n",
    "\n",
    "\n",
    "\n"
   ]
  },
  {
   "cell_type": "code",
   "execution_count": 2,
   "id": "f2fb2141-3648-4333-a83f-898e28ba2e5d",
   "metadata": {},
   "outputs": [
    {
     "name": "stdout",
     "output_type": "stream",
     "text": [
      "Stock is ok for Laptop\n",
      "Reorder needed for Printers\n",
      "Reorder needed for Chargers\n",
      "Reorder needed for Powerbank\n"
     ]
    }
   ],
   "source": [
    "#For loop reorder check\n",
    "\n",
    "Product = [\n",
    "    {\"name\": \"Laptop\", \"stock\": 50,\"Reorder\":20},\n",
    "    {\"name\": \"Printers\", \"stock\": 120,\"Reorder\":200},\n",
    "    {\"name\": \"Chargers\", \"stock\": 250,\"Reorder\":900},\n",
    "    {\"name\": \"Powerbank\", \"stock\": 240,\"Reorder\":300}]\n",
    "\n",
    "for item in Product:\n",
    "    if item['stock'] < item['Reorder']:\n",
    "        print(f\"Reorder needed for {item['name']}\")\n",
    "\n",
    "    else:\n",
    "        print(f\"Stock is ok for {item['name']}\")"
   ]
  },
  {
   "cell_type": "code",
   "execution_count": 4,
   "id": "834ed6c7-cffc-4b3b-8635-ab4c3f2b75fd",
   "metadata": {},
   "outputs": [
    {
     "name": "stdout",
     "output_type": "stream",
     "text": [
      "Laptop stock value is 1000\n",
      "Printers stock value is 4800\n",
      "Chargers stock value is 13750\n",
      "Powerbank stock value is 15600\n",
      "The Total Stock Value is 35150\n"
     ]
    }
   ],
   "source": [
    "#Warehouse Value Calculation (For Loop + Accumulation)\n",
    "\n",
    "Product = [\n",
    "    {\"name\": \"Laptop\", \"stock\": 50,\"Price\":20},\n",
    "    {\"name\": \"Printers\", \"stock\": 120,\"Price\":40},\n",
    "    {\"name\": \"Chargers\", \"stock\": 250,\"Price\":55},\n",
    "    {\"name\": \"Powerbank\", \"stock\": 240,\"Price\":65}]\n",
    "\n",
    "total_warehouse_value = 0\n",
    "for item in Product:\n",
    "    stock_value = item['stock'] * item['Price']\n",
    "    \n",
    "    print(f\"{item['name']} stock value is {stock_value}\")\n",
    "    total_warehouse_value += stock_value\n",
    "print(f\"The Total Stock Value is {total_warehouse_value}\")\n"
   ]
  },
  {
   "cell_type": "code",
   "execution_count": null,
   "id": "9ead40e3-9999-4645-b75c-5a2139e6e6f7",
   "metadata": {},
   "outputs": [],
   "source": [
    "#Daily sales/ loss Predictor\n",
    "\n",
    "import random\n",
    "\n",
    "stock = 100\n",
    "day = 1\n",
    "\n",
    "while stock > 0:\n",
    "    daily_sales = random.randint(5, 15)\n",
    "    \n",
    "    \n",
    "    if daily_sales > stock:\n",
    "        daily_sales = stock\n",
    "        \n",
    "        stock -= daily_sales\n",
    "        print(f\"Day {day}: Sold {daily_sales} units, Remaining stock: {stock}\")\n",
    "        day += 1\n",
    "\n",
    "print(\"\\nStock depleted.\")\n",
    "\n",
    "\n",
    "    \n"
   ]
  },
  {
   "cell_type": "code",
   "execution_count": null,
   "id": "08f7f0a6-8248-4b16-a5d3-1120a32a51d9",
   "metadata": {},
   "outputs": [],
   "source": []
  },
  {
   "cell_type": "code",
   "execution_count": null,
   "id": "0b4a85da-2efc-4b64-b2a4-4ccf3ad81ffc",
   "metadata": {},
   "outputs": [],
   "source": []
  }
 ],
 "metadata": {
  "kernelspec": {
   "display_name": "anaconda-panel-2023.05-py310",
   "language": "python",
   "name": "conda-env-anaconda-panel-2023.05-py310-py"
  },
  "language_info": {
   "codemirror_mode": {
    "name": "ipython",
    "version": 3
   },
   "file_extension": ".py",
   "mimetype": "text/x-python",
   "name": "python",
   "nbconvert_exporter": "python",
   "pygments_lexer": "ipython3",
   "version": "3.11.5"
  }
 },
 "nbformat": 4,
 "nbformat_minor": 5
}
