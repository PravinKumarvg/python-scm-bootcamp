{
 "cells": [
  {
   "cell_type": "code",
   "execution_count": 6,
   "id": "2a9e6589-de07-41e4-acb4-d3661c8594ea",
   "metadata": {},
   "outputs": [
    {
     "name": "stdout",
     "output_type": "stream",
     "text": [
      "Stock value: [ 5000  6000 15000  1600]\n",
      "TotalValue: 27600\n",
      "Highest Stock value Index: 2\n"
     ]
    }
   ],
   "source": [
    "#Numpy stock value\n",
    "\n",
    "\n",
    "import numpy as np\n",
    "\n",
    "stock = np.array([100, 200, 150, 80])\n",
    "\n",
    "price = np.array([50, 30, 100, 20])\n",
    "\n",
    "stockvalue = stock*price\n",
    "TotalInvVal = np.sum(stockvalue)\n",
    "HighestIndex = np.argmax(stockvalue)\n",
    "\n",
    "\n",
    "print(f\"Stock value: {stockvalue}\")\n",
    "print(f\"TotalValue: {TotalInvVal}\")\n",
    "print(f\"Highest Stock value Index: {HighestIndex}\")\n",
    "\n"
   ]
  },
  {
   "cell_type": "code",
   "execution_count": null,
   "id": "846d9514-8c73-4457-9c53-7520f9fe62b8",
   "metadata": {},
   "outputs": [],
   "source": []
  }
 ],
 "metadata": {
  "kernelspec": {
   "display_name": "anaconda-panel-2023.05-py310",
   "language": "python",
   "name": "conda-env-anaconda-panel-2023.05-py310-py"
  },
  "language_info": {
   "codemirror_mode": {
    "name": "ipython",
    "version": 3
   },
   "file_extension": ".py",
   "mimetype": "text/x-python",
   "name": "python",
   "nbconvert_exporter": "python",
   "pygments_lexer": "ipython3",
   "version": "3.11.5"
  }
 },
 "nbformat": 4,
 "nbformat_minor": 5
}
