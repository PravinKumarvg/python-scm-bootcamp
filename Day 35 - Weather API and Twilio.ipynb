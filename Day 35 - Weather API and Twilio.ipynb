{
 "cells": [
  {
   "cell_type": "code",
   "execution_count": 12,
   "id": "d451e44a-f6ff-4c4e-a532-9075661ba9ab",
   "metadata": {},
   "outputs": [
    {
     "name": "stdout",
     "output_type": "stream",
     "text": [
      "200\n"
     ]
    }
   ],
   "source": [
    "#Openweathermap API for chennai for next 5 days by creating new API key\n",
    "\n",
    "import requests\n",
    "\n",
    "OWM_Endpoint = \"https://api.openweathermap.org/data/2.5/forecast\"\n",
    "API = \"dad4335a304bcf2a6b8090c0d068db5f\"\n",
    "\n",
    "\n",
    "weather_params = {\n",
    "    \"lat\":13.082680,\n",
    "    \"lon\":80.270721,\n",
    "    \"appid\": API,\n",
    "}\n",
    "request = requests.get(OWM_Endpoint, params = weather_params)\n",
    "#request.raise_for_status\n",
    "#data = request.json()\n",
    "print(request.status_code)"
   ]
  },
  {
   "cell_type": "code",
   "execution_count": 20,
   "id": "9289235b-9627-4dfd-9cf3-c6eb67780cee",
   "metadata": {},
   "outputs": [
    {
     "name": "stdout",
     "output_type": "stream",
     "text": [
      "{'cod': '200', 'message': 0, 'cnt': 4, 'list': [{'dt': 1760475600, 'main': {'temp': 299.5, 'feels_like': 299.5, 'temp_min': 299.5, 'temp_max': 300.08, 'pressure': 1006, 'sea_level': 1006, 'grnd_level': 1005, 'humidity': 88, 'temp_kf': -0.58}, 'weather': [{'id': 501, 'main': 'Rain', 'description': 'moderate rain', 'icon': '10n'}], 'clouds': {'all': 60}, 'wind': {'speed': 2.34, 'deg': 19, 'gust': 3.32}, 'visibility': 7718, 'pop': 1, 'rain': {'3h': 5.45}, 'sys': {'pod': 'n'}, 'dt_txt': '2025-10-14 21:00:00'}, {'dt': 1760486400, 'main': {'temp': 299.71, 'feels_like': 299.71, 'temp_min': 299.71, 'temp_max': 299.96, 'pressure': 1006, 'sea_level': 1006, 'grnd_level': 1006, 'humidity': 84, 'temp_kf': -0.25}, 'weather': [{'id': 501, 'main': 'Rain', 'description': 'moderate rain', 'icon': '10n'}], 'clouds': {'all': 79}, 'wind': {'speed': 2.65, 'deg': 8, 'gust': 3.74}, 'visibility': 10000, 'pop': 1, 'rain': {'3h': 3.56}, 'sys': {'pod': 'n'}, 'dt_txt': '2025-10-15 00:00:00'}, {'dt': 1760497200, 'main': {'temp': 301.82, 'feels_like': 305.34, 'temp_min': 301.82, 'temp_max': 301.82, 'pressure': 1009, 'sea_level': 1009, 'grnd_level': 1008, 'humidity': 71, 'temp_kf': 0}, 'weather': [{'id': 500, 'main': 'Rain', 'description': 'light rain', 'icon': '10d'}], 'clouds': {'all': 100}, 'wind': {'speed': 4.49, 'deg': 5, 'gust': 5.38}, 'visibility': 7296, 'pop': 0.95, 'rain': {'3h': 1.8}, 'sys': {'pod': 'd'}, 'dt_txt': '2025-10-15 03:00:00'}, {'dt': 1760508000, 'main': {'temp': 302.37, 'feels_like': 305.98, 'temp_min': 302.37, 'temp_max': 302.37, 'pressure': 1007, 'sea_level': 1007, 'grnd_level': 1007, 'humidity': 68, 'temp_kf': 0}, 'weather': [{'id': 501, 'main': 'Rain', 'description': 'moderate rain', 'icon': '10d'}], 'clouds': {'all': 100}, 'wind': {'speed': 5.86, 'deg': 39, 'gust': 6.08}, 'visibility': 10000, 'pop': 1, 'rain': {'3h': 3.81}, 'sys': {'pod': 'd'}, 'dt_txt': '2025-10-15 06:00:00'}], 'city': {'id': 1465730, 'name': 'Park Town', 'coord': {'lat': 13.0827, 'lon': 80.2707}, 'country': 'IN', 'population': 0, 'timezone': 19800, 'sunrise': 1760488144, 'sunset': 1760530803}}\n",
      "[{'id': 501, 'main': 'Rain', 'description': 'moderate rain', 'icon': '10n'}]\n",
      "Bring an umbrella ☔\n",
      "[{'id': 501, 'main': 'Rain', 'description': 'moderate rain', 'icon': '10n'}]\n",
      "Bring an umbrella ☔\n",
      "[{'id': 500, 'main': 'Rain', 'description': 'light rain', 'icon': '10d'}]\n",
      "Bring an umbrella ☔\n",
      "[{'id': 501, 'main': 'Rain', 'description': 'moderate rain', 'icon': '10d'}]\n",
      "Bring an umbrella ☔\n"
     ]
    }
   ],
   "source": [
    "#Openweathermap API for chennai for next 5 days and also based on API key advising about weather status\n",
    "\n",
    "import requests\n",
    "\n",
    "OWM_Endpoint = \"https://api.openweathermap.org/data/2.5/forecast\"\n",
    "API = \"dad4335a304bcf2a6b8090c0d068db5f\"\n",
    "\n",
    "\n",
    "weather_params = {\n",
    "    \"lat\":13.082680,\n",
    "    \"lon\":80.270721,\n",
    "    \"appid\": API,\n",
    "    \"cnt\": 4,\n",
    "}\n",
    "request = requests.get(OWM_Endpoint, params = weather_params)\n",
    "request.raise_for_status\n",
    "data = request.json()\n",
    "print(data)\n",
    "\n",
    "\n",
    "#first_forecast = data[\"list\"][0]\n",
    "#weather_id = first_forecast[\"weather\"][0][\"id\"]\n",
    "\n",
    "for hourdata in data[\"list\"]:\n",
    "    print(hourdata[\"weather\"])\n",
    "    if hourdata[\"weather\"][0][\"id\"] < 700:\n",
    "        print(\"Bring an umbrella ☔\")\n",
    "    else:\n",
    "        print(\"Forecast is sunny 🌞. Enjoy your day!\")\n",
    "\n"
   ]
  },
  {
   "cell_type": "code",
   "execution_count": null,
   "id": "215e2c11-7915-45cb-8e16-4e19405ef256",
   "metadata": {},
   "outputs": [],
   "source": [
    "#Send SMS using twilio\n",
    "\n",
    "import requests\n",
    "from twilio.rest import client\n",
    "\n",
    "OWM_Endpoint = \"https://api.openweathermap.org/data/2.5/forecast\"\n",
    "API = \"dad4335a304bcf2a6b8090c0d068db5f\"\n",
    "account_sid = ACee935445dde72b425c311b78ea5ef878\n",
    "auth_token = 6e1cac8f942678774b06c004ccc20cfa\n",
    "\n",
    "\n",
    "weather_params = {\n",
    "    \"lat\":13.082680,\n",
    "    \"lon\":80.270721,\n",
    "    \"appid\": API,\n",
    "    \"cnt\": 4,\n",
    "}\n",
    "request = requests.get(OWM_Endpoint, params = weather_params)\n",
    "request.raise_for_status\n",
    "data = request.json()\n",
    "print(data)\n",
    "\n",
    "\n",
    "#first_forecast = data[\"list\"][0]\n",
    "#weather_id = first_forecast[\"weather\"][0][\"id\"]\n",
    "willrain = False\n",
    "for hourdata in data[\"list\"]:\n",
    "    print(hourdata[\"weather\"])\n",
    "    conditioncode = hourdata[\"weather\"][0][\"id\"]\n",
    "    if int(conditioncode) < 700:\n",
    "        willrain = True\n",
    "if willrain:\n",
    "    client = Client(account_sid, auth_token)\n",
    "    message = client.mesagges \\\n",
    "         .create(\n",
    "        body = \"Its going to rain today.Bring an umberlla\",\n",
    "        from = '',\n",
    "        to = '',\n",
    "         )\n",
    "print(message.status)\n",
    "    \n"
   ]
  }
 ],
 "metadata": {
  "kernelspec": {
   "display_name": "anaconda-panel-2023.05-py310",
   "language": "python",
   "name": "conda-env-anaconda-panel-2023.05-py310-py"
  },
  "language_info": {
   "codemirror_mode": {
    "name": "ipython",
    "version": 3
   },
   "file_extension": ".py",
   "mimetype": "text/x-python",
   "name": "python",
   "nbconvert_exporter": "python",
   "pygments_lexer": "ipython3",
   "version": "3.11.5"
  }
 },
 "nbformat": 4,
 "nbformat_minor": 5
}
