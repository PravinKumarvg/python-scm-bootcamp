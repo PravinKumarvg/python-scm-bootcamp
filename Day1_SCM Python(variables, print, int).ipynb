{
 "cells": [
  {
   "cell_type": "code",
   "execution_count": 1,
   "id": "d7952cc5-4c70-4e3d-94e1-2a9a0001dc43",
   "metadata": {},
   "outputs": [
    {
     "name": "stdout",
     "output_type": "stream",
     "text": [
      "Hello World!\n"
     ]
    }
   ],
   "source": [
    "print(\"Hello World Welcome to SCM AI!\")"
   ]
  },
  {
   "cell_type": "code",
   "execution_count": 3,
   "id": "3bfa595e-9813-4e90-be14-e9ee9538bf1c",
   "metadata": {},
   "outputs": [
    {
     "name": "stdout",
     "output_type": "stream",
     "text": [
      "Hi All!\n",
      "I am Pravin\n"
     ]
    }
   ],
   "source": [
    "print(\"Hi All!\\nI am Pravin\") "
   ]
  },
  {
   "cell_type": "code",
   "execution_count": 7,
   "id": "2f1a5d50-6c3d-4ece-9abc-507878137daa",
   "metadata": {},
   "outputs": [
    {
     "name": "stdin",
     "output_type": "stream",
     "text": [
      "what is your name ? Pravin\n"
     ]
    },
    {
     "name": "stdout",
     "output_type": "stream",
     "text": [
      "Pravin\n",
      "6\n"
     ]
    }
   ],
   "source": [
    "name = input(\"what is your name ?\")\n",
    "print(name)\n",
    "print(len(name))"
   ]
  },
  {
   "cell_type": "code",
   "execution_count": 1,
   "id": "8f90df70-14e4-4720-a069-309b2503605c",
   "metadata": {},
   "outputs": [
    {
     "name": "stdin",
     "output_type": "stream",
     "text": [
      "Enter product name:  Mobile\n"
     ]
    },
    {
     "name": "stdout",
     "output_type": "stream",
     "text": [
      "Product added: Mobile\n"
     ]
    }
   ],
   "source": [
    "#Take input for a product\n",
    "\n",
    "product_name = input(\"Enter product name: \")\n",
    "print(f\"Product added: {product_name}\")"
   ]
  },
  {
   "cell_type": "code",
   "execution_count": 9,
   "id": "f1c457f9-3fe2-44da-a86d-0189268f5a5c",
   "metadata": {},
   "outputs": [
    {
     "name": "stdout",
     "output_type": "stream",
     "text": [
      "juice\n",
      "milk\n"
     ]
    }
   ],
   "source": [
    "#Swap between strings\n",
    "Product1 = \"milk\"\n",
    "Product2 = \"juice\"\n",
    "\n",
    "a = Product1\n",
    "b = Product2\n",
    "\n",
    "Product1 = b\n",
    "Product2 = a\n",
    "\n",
    "print(Product1)\n",
    "print(Product2)"
   ]
  },
  {
   "cell_type": "code",
   "execution_count": 18,
   "id": "df3347c7-b3d2-4448-8d27-c4bc9301be7e",
   "metadata": {
    "scrolled": true
   },
   "outputs": [
    {
     "name": "stdout",
     "output_type": "stream",
     "text": [
      "welcome to the stock caluclator\n"
     ]
    },
    {
     "name": "stdin",
     "output_type": "stream",
     "text": [
      "what is your onhand? 450\n",
      "what is your sales? 200\n"
     ]
    },
    {
     "name": "stdout",
     "output_type": "stream",
     "text": [
      "Your remaining stock is 250\n"
     ]
    }
   ],
   "source": [
    "#Calculate remaining stock\n",
    "\n",
    "print(\"welcome to the stock caluclator\")\n",
    "onhand = int(input(\"what is your onhand?\"))\n",
    "sales = int(input(\"what is your sales?\"))\n",
    "Remaining_stock = onhand - sales\n",
    "\n",
    "print(f\"Your remaining stock is {Remaining_stock}\")"
   ]
  },
  {
   "cell_type": "code",
   "execution_count": null,
   "id": "0caaf1cb-dfda-464c-9d74-f1ef4e9230fa",
   "metadata": {},
   "outputs": [],
   "source": []
  }
 ],
 "metadata": {
  "kernelspec": {
   "display_name": "anaconda-panel-2023.05-py310",
   "language": "python",
   "name": "conda-env-anaconda-panel-2023.05-py310-py"
  },
  "language_info": {
   "codemirror_mode": {
    "name": "ipython",
    "version": 3
   },
   "file_extension": ".py",
   "mimetype": "text/x-python",
   "name": "python",
   "nbconvert_exporter": "python",
   "pygments_lexer": "ipython3",
   "version": "3.11.5"
  }
 },
 "nbformat": 4,
 "nbformat_minor": 5
}
