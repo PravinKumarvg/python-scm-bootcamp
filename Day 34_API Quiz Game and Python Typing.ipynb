{
 "cells": [
  {
   "cell_type": "code",
   "execution_count": 3,
   "id": "bb1158a0-ad2c-4be2-a2c9-4f6452128d68",
   "metadata": {},
   "outputs": [
    {
     "name": "stdout",
     "output_type": "stream",
     "text": [
      "[{'type': 'boolean', 'difficulty': 'medium', 'category': 'Geography', 'question': 'The flag of South Africa features 7 colours.', 'correct_answer': 'False', 'incorrect_answers': ['True']}, {'type': 'boolean', 'difficulty': 'medium', 'category': 'Science: Computers', 'question': 'AMD created the first consumer 64-bit processor.', 'correct_answer': 'True', 'incorrect_answers': ['False']}, {'type': 'boolean', 'difficulty': 'easy', 'category': 'Vehicles', 'question': 'The Honda Motor Corporation originates in Japan', 'correct_answer': 'True', 'incorrect_answers': ['False']}, {'type': 'boolean', 'difficulty': 'medium', 'category': 'Entertainment: Video Games', 'question': 'TF2: The Heavy&#039;s voice actor, Gary Schwartz, voices the Demoman as well ', 'correct_answer': 'True', 'incorrect_answers': ['False']}, {'type': 'boolean', 'difficulty': 'easy', 'category': 'General Knowledge', 'question': 'Nutella is produced by the German company Ferrero.', 'correct_answer': 'False', 'incorrect_answers': ['True']}, {'type': 'boolean', 'difficulty': 'medium', 'category': 'Science: Computers', 'question': 'Early RAM was directly seated onto the motherboard and could not be easily removed.', 'correct_answer': 'True', 'incorrect_answers': ['False']}, {'type': 'boolean', 'difficulty': 'easy', 'category': 'Entertainment: Film', 'question': 'In the original Star Wars trilogy, Alec Guinness provided the voice for Darth Vader.', 'correct_answer': 'False', 'incorrect_answers': ['True']}, {'type': 'boolean', 'difficulty': 'easy', 'category': 'Entertainment: Film', 'question': 'Han Solo&#039;s co-pilot and best friend, &quot;Chewbacca&quot;, is an Ewok.', 'correct_answer': 'False', 'incorrect_answers': ['True']}, {'type': 'boolean', 'difficulty': 'hard', 'category': 'Vehicles', 'question': 'There is a Rolls-Royce model called the &#039;Spectre&#039;', 'correct_answer': 'False', 'incorrect_answers': ['True']}, {'type': 'boolean', 'difficulty': 'easy', 'category': 'Entertainment: Video Games', 'question': 'Pac-Man was invented by the designer Toru Iwatani while he was eating pizza.', 'correct_answer': 'True', 'incorrect_answers': ['False']}]\n"
     ]
    }
   ],
   "source": [
    "import requests\n",
    "\n",
    "parameters = {\n",
    "    \"amount\":10, \n",
    "    \"type\":\"boolean\"\n",
    "}\n",
    "\n",
    "\n",
    "request = requests.get(url = \"https://opentdb.com/api.php\", params = parameters)\n",
    "request.raise_for_status()\n",
    "data = request.json()\n",
    "question_data = print(data[\"results\"])"
   ]
  },
  {
   "cell_type": "code",
   "execution_count": null,
   "id": "520fda62-018a-4610-b981-77fcbde781f4",
   "metadata": {},
   "outputs": [],
   "source": [
    "from question_model import Question\n",
    "from data import question_data\n",
    "from quiz_brain import QuizBrain\n",
    "\n",
    "question_bank = []\n",
    "\n",
    "for question in question_data:\n",
    "    question_text = question[\"question\"]\n",
    "    question_answer = question[\"correct_answer\"]\n",
    "    newquestion = Question(question_text, question_answer)\n",
    "    question_bank.append(newquestion)\n",
    "\n",
    "quiz = QuizBrain(question_bank)\n",
    "\n",
    "while quiz.still_has_question():\n",
    "    quiz.next_question()\n",
    "\n",
    "\n",
    "print(\"You've completed the quiz\")\n",
    "print(f\"Your final score was: {quiz.score}/{quiz.question_number}\")"
   ]
  },
  {
   "cell_type": "code",
   "execution_count": 12,
   "id": "13a635c1-2b5e-45f6-92bb-fc0e88f3c676",
   "metadata": {},
   "outputs": [
    {
     "name": "stdout",
     "output_type": "stream",
     "text": [
      "Inventory Holding cost is high\n"
     ]
    }
   ],
   "source": [
    "#Python Typing\n",
    "\n",
    "def stocklevel(qty:str) -> bool:\n",
    "\n",
    "    if qty > 100:\n",
    "        orderpoint_status = False\n",
    "\n",
    "    else:\n",
    "        orderpoint_status = True\n",
    "\n",
    "    return \"Not good\"\n",
    "\n",
    "\n",
    "if stocklevel(200):\n",
    "    print(\"Inventory Holding cost is high\")\n",
    "\n",
    "else:\n",
    "    print(\"Inventory Holding cost is not high\")"
   ]
  },
  {
   "cell_type": "code",
   "execution_count": null,
   "id": "7915f4c1-8912-4139-88fe-c9a7b98f9a18",
   "metadata": {},
   "outputs": [],
   "source": []
  }
 ],
 "metadata": {
  "kernelspec": {
   "display_name": "anaconda-panel-2023.05-py310",
   "language": "python",
   "name": "conda-env-anaconda-panel-2023.05-py310-py"
  },
  "language_info": {
   "codemirror_mode": {
    "name": "ipython",
    "version": 3
   },
   "file_extension": ".py",
   "mimetype": "text/x-python",
   "name": "python",
   "nbconvert_exporter": "python",
   "pygments_lexer": "ipython3",
   "version": "3.11.5"
  }
 },
 "nbformat": 4,
 "nbformat_minor": 5
}
