{
 "cells": [
  {
   "cell_type": "code",
   "execution_count": 3,
   "id": "10b87fec-a905-4281-86ca-4c46affc62b9",
   "metadata": {},
   "outputs": [
    {
     "name": "stdout",
     "output_type": "stream",
     "text": [
      "Product laptop sold 180. Remaining stock 20\n",
      "Restocked 300 for laptop. Current stock320\n",
      "Product Mobile sold 200. Remaining stock 200\n",
      "Restocked 45 for Mobile. Current stock245\n"
     ]
    }
   ],
   "source": [
    "#Class Example for restock\n",
    "\n",
    "class Product_stock():\n",
    "    def __init__(self, name, stock):\n",
    "        self.name = name\n",
    "        self.stock = stock\n",
    "\n",
    "    def sell(self,units):\n",
    "        self.stock -= units\n",
    "        print(f\"Product {self.name} sold {units}. Remaining stock {self.stock}\")\n",
    "\n",
    "    def restock(self,units):\n",
    "        self.stock += units\n",
    "        print(f\"Restocked {units} for {self.name}. Current stock{self.stock}\")\n",
    "\n",
    "p1 = Product_stock(\"laptop\", 200)\n",
    "p2 = Product_stock(\"Mobile\", 400)\n",
    "\n",
    "p1.sell(180)\n",
    "p1.restock(300)\n",
    "\n",
    "p2.sell(200)\n",
    "p2.restock(45)"
   ]
  },
  {
   "cell_type": "code",
   "execution_count": 9,
   "id": "273a6c22-f3db-4b2f-acc3-a9abf79ec89d",
   "metadata": {},
   "outputs": [
    {
     "name": "stdout",
     "output_type": "stream",
     "text": [
      "The most efficient mode of transport is Air with efficiency score 300\n"
     ]
    }
   ],
   "source": [
    "class Transportationmode():\n",
    "    def __init__(self,name, cost_per_unit, delivery_days):\n",
    "        self.name = name\n",
    "        self.cost_per_unit = cost_per_unit\n",
    "        self.delivery_days = delivery_days\n",
    "\n",
    "    def efficiency(self):\n",
    "            eff = self.cost_per_unit * self.delivery_days\n",
    "            return eff\n",
    "\n",
    "\n",
    "mode1 = Transportationmode(\"Air\", 30, 10)\n",
    "mode2 = Transportationmode(\"Water\", 70, 20)\n",
    "mode3 = Transportationmode(\"Train\", 80, 80)\n",
    "\n",
    "modes = [mode1, mode2, mode3]\n",
    "best_modes = min(modes, key = lambda m:m.efficiency())\n",
    "\n",
    "print(f\"The most efficient mode of transport is {best_modes.name} with efficiency score {best_modes.efficiency()}\")\n",
    "\n",
    "            \n",
    "            "
   ]
  },
  {
   "cell_type": "code",
   "execution_count": null,
   "id": "05d372ff-1550-4b30-9819-f705164a62a5",
   "metadata": {},
   "outputs": [],
   "source": []
  }
 ],
 "metadata": {
  "kernelspec": {
   "display_name": "anaconda-panel-2023.05-py310",
   "language": "python",
   "name": "conda-env-anaconda-panel-2023.05-py310-py"
  },
  "language_info": {
   "codemirror_mode": {
    "name": "ipython",
    "version": 3
   },
   "file_extension": ".py",
   "mimetype": "text/x-python",
   "name": "python",
   "nbconvert_exporter": "python",
   "pygments_lexer": "ipython3",
   "version": "3.11.5"
  }
 },
 "nbformat": 4,
 "nbformat_minor": 5
}
