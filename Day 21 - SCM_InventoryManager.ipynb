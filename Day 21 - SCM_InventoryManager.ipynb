{
 "cells": [
  {
   "cell_type": "code",
   "execution_count": 9,
   "id": "5ec3c8a7-97ea-4faf-a1ab-d1a00182435b",
   "metadata": {},
   "outputs": [
    {
     "name": "stdout",
     "output_type": "stream",
     "text": [
      " Laptop | Averagesales:47.5 | Reorder qty: 495.0 | Decision: Place an Order\n",
      " Mobile | Averagesales:55 | Reorder qty: 1130 | Decision: Place an Order\n",
      " Tablet | Averagesales:65 | Reorder qty: 1015 | Decision: Place an Order\n"
     ]
    }
   ],
   "source": [
    "import statistics\n",
    "\n",
    "class Product:\n",
    "    def __init__(self,name, stock, saleshistory, leadtime, safety_stock):\n",
    "        self.name = name\n",
    "        self.stock = stock\n",
    "        self.saleshistory = saleshistory\n",
    "        self.leadtime = leadtime\n",
    "        self.safety_stock = safety_stock\n",
    "\n",
    "        \n",
    "\n",
    "    def sell(self,units):\n",
    "        self.stock -= units\n",
    "        return units\n",
    "\n",
    "    def restock(self, units):\n",
    "        self.stock += units\n",
    "        return units\n",
    "\n",
    "    def average_Sales(self):\n",
    "        avg_Sales = statistics.mean(self.saleshistory)\n",
    "        return avg_Sales\n",
    "\n",
    "    def reorder_qty(self):\n",
    "        avg_Sales1 = statistics.mean(self.saleshistory)\n",
    "        reorqty = (avg_Sales1 * self.leadtime) + self.safety_stock\n",
    "        return reorqty\n",
    "\n",
    "    \n",
    "    def decision(self):\n",
    "        if self.stock < self.reorder_qty():\n",
    "            return \"Place an Order\"\n",
    "        else:\n",
    "            return \"Stock is Fine\"\n",
    "\n",
    "\n",
    "\n",
    "\n",
    "\n",
    "pr1 = Product(\"Laptop\", 300, [30,40,50,70], 10, 20)\n",
    "pr2 = Product(\"Mobile\", 600, [30,40,90,60], 20, 30)\n",
    "pr3 = Product(\"Tablet\", 900, [30,100,50,80], 15, 40)\n",
    "\n",
    "pr1.sell(30)\n",
    "pr1.restock(40)\n",
    "\n",
    "\n",
    "\n",
    "pr2.sell(60)\n",
    "pr2.restock(80)\n",
    "\n",
    "\n",
    "pr3.sell(10)\n",
    "pr3.restock(90)\n",
    "\n",
    "\n",
    "\n",
    "\n",
    "print(f\" {pr1.name} | Averagesales:{pr1.average_Sales()} | Reorder qty: {pr1.reorder_qty()} | Decision: {pr1.decision()}\")\n",
    "print(f\" {pr2.name} | Averagesales:{pr2.average_Sales()} | Reorder qty: {pr2.reorder_qty()} | Decision: {pr2.decision()}\")\n",
    "print(f\" {pr3.name} | Averagesales:{pr3.average_Sales()} | Reorder qty: {pr3.reorder_qty()} | Decision: {pr3.decision()}\")\n",
    "        \n",
    "        "
   ]
  },
  {
   "cell_type": "code",
   "execution_count": null,
   "id": "ee917f43-540d-4dde-b8a2-cbb73034e1a5",
   "metadata": {},
   "outputs": [],
   "source": []
  }
 ],
 "metadata": {
  "kernelspec": {
   "display_name": "anaconda-panel-2023.05-py310",
   "language": "python",
   "name": "conda-env-anaconda-panel-2023.05-py310-py"
  },
  "language_info": {
   "codemirror_mode": {
    "name": "ipython",
    "version": 3
   },
   "file_extension": ".py",
   "mimetype": "text/x-python",
   "name": "python",
   "nbconvert_exporter": "python",
   "pygments_lexer": "ipython3",
   "version": "3.11.5"
  }
 },
 "nbformat": 4,
 "nbformat_minor": 5
}
