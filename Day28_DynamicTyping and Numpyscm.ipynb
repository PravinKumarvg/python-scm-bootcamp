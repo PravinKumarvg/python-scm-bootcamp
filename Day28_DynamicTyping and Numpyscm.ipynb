{
 "cells": [
  {
   "cell_type": "code",
   "execution_count": 1,
   "id": "c48a371d-f4b4-4e05-a5cf-42ac8cb93579",
   "metadata": {},
   "outputs": [
    {
     "name": "stdout",
     "output_type": "stream",
     "text": [
      "<class 'int'>\n",
      "<class 'str'>\n",
      "<class 'list'>\n"
     ]
    }
   ],
   "source": [
    "# Dynamic Typing\n",
    "\n",
    "\n",
    "x = 10         # x is an integer\n",
    "print(type(x)) # <class 'int'>\n",
    "\n",
    "x = \"hello\"    # Now x is a string\n",
    "print(type(x)) # <class 'str'>\n",
    "\n",
    "x = [1, 2, 3]  # Now x is a list\n",
    "print(type(x)) # <class\n",
    "\n"
   ]
  },
  {
   "cell_type": "code",
   "execution_count": 2,
   "id": "8372252a-9a93-40ac-829c-af895ebbca6a",
   "metadata": {},
   "outputs": [
    {
     "name": "stdout",
     "output_type": "stream",
     "text": [
      "5\n",
      "4\n"
     ]
    }
   ],
   "source": [
    "#Dynamic Typing use in functions\n",
    "\n",
    "\n",
    "def print_length(data):\n",
    "    print(len(data))\n",
    "\n",
    "print_length(\"macha\")       # Works with string\n",
    "print_length([1, 2, 3, 4])  # Works with list\n"
   ]
  },
  {
   "cell_type": "code",
   "execution_count": 4,
   "id": "7850c971-018a-431d-b7ce-2a1e3ea6cb80",
   "metadata": {},
   "outputs": [
    {
     "name": "stdout",
     "output_type": "stream",
     "text": [
      "Totalsales : 795\n",
      "Averagesales : 113.57142857142857\n",
      "lowestsales : 90\n",
      "Highestsales : 150\n"
     ]
    }
   ],
   "source": [
    "#Numpy\n",
    "\n",
    "import numpy as np\n",
    "\n",
    "dailysales = np.array([100, 120, 90, 150, 110, 95, 130])\n",
    "\n",
    "Totalsales = np.sum(dailysales)\n",
    "avgsales = np.mean(dailysales)\n",
    "lowestsales = np.min(dailysales)\n",
    "highestsales = np.max(dailysales)\n",
    "\n",
    "print(f\"Totalsales : {Totalsales}\")\n",
    "print(f\"Averagesales : {avgsales}\")\n",
    "print(f\"lowestsales : {lowestsales}\")\n",
    "print(f\"Highestsales : {highestsales}\")\n"
   ]
  },
  {
   "cell_type": "code",
   "execution_count": null,
   "id": "51799121-7e9b-46c0-9b30-e2f6887906f2",
   "metadata": {},
   "outputs": [],
   "source": []
  }
 ],
 "metadata": {
  "kernelspec": {
   "display_name": "anaconda-panel-2023.05-py310",
   "language": "python",
   "name": "conda-env-anaconda-panel-2023.05-py310-py"
  },
  "language_info": {
   "codemirror_mode": {
    "name": "ipython",
    "version": 3
   },
   "file_extension": ".py",
   "mimetype": "text/x-python",
   "name": "python",
   "nbconvert_exporter": "python",
   "pygments_lexer": "ipython3",
   "version": "3.11.5"
  }
 },
 "nbformat": 4,
 "nbformat_minor": 5
}
