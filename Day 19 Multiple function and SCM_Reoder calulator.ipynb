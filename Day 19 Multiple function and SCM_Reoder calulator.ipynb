{
 "cells": [
  {
   "cell_type": "code",
   "execution_count": null,
   "id": "ddffbe45-e551-4a4f-941f-fa32127074fb",
   "metadata": {},
   "outputs": [],
   "source": [
    "#calling a function within a function\n",
    "\n",
    "def addition(a,b):\n",
    "    return a+b\n",
    "\n",
    "def multiply(x,y):\n",
    "    return x*y\n",
    "\n",
    "def calculator(n1,n2, multiply):\n",
    "    return multiply(n1,n2)\n",
    "\n",
    "\n",
    "result = calculator(2,4, multiply)\n",
    "print(result)\n"
   ]
  },
  {
   "cell_type": "code",
   "execution_count": 5,
   "id": "14ad068d-526b-44cb-970e-904407fc0971",
   "metadata": {},
   "outputs": [
    {
     "name": "stdout",
     "output_type": "stream",
     "text": [
      " Product: Laptop | Stock: 2000 | Price: 30 | Stock_value: 60000\n",
      "None\n"
     ]
    }
   ],
   "source": [
    "#SCM Class\n",
    "\n",
    "class Product:\n",
    "    def __init__(self,name, stock,price_per_unit):\n",
    "        self.name = name\n",
    "        self.stock = stock\n",
    "        self.price_per_unit = price_per_unit\n",
    "\n",
    "\n",
    "    def info(self):\n",
    "        stock_value = self.stock * self.price_per_unit\n",
    "\n",
    "        print(f\" Product: {self.name} | Stock: {self.stock} | Price: {self.price_per_unit} | Stock_value: {stock_value}\")\n",
    "        \n",
    "\n",
    "\n",
    "Pr = Product(\"Laptop\", 2000, 30)\n",
    "\n",
    "result = Pr.info()\n",
    "print(result)"
   ]
  },
  {
   "cell_type": "code",
   "execution_count": null,
   "id": "c1b811e8-0d2f-4111-bdef-501a3afecd71",
   "metadata": {},
   "outputs": [],
   "source": [
    "#Reoder Quantity calculator\n",
    "\n",
    "import statistics\n",
    "\n",
    "class Products:\n",
    "    def __init__(self, name, stock, price_per_unit, saleshistory, safetystock, leadtime):\n",
    "        self.name = name\n",
    "        self.stock = stock\n",
    "        self.price_per_unit = price_per_unit\n",
    "        self.saleshistory = saleshistory\n",
    "        self.safetystock = safetystock\n",
    "        self.leadtime = leadtime\n",
    "\n",
    "    def average_sales(self):\n",
    "        avg_sales = statistics.mean(self.saleshistory)\n",
    "        print(f\"{self.name} - Average Sales: {avg_sales}\")\n",
    "        return avg_sales\n",
    "\n",
    "    def reorder_quantity(self):\n",
    "        avg_sales = self.average_sales()\n",
    "        reorder_qty = (avg_sales * self.leadtime) + self.safetystock\n",
    "        print(f\"{self.name} - Reorder Quantity: {reorder_qty}\")\n",
    "        return reorder_qty\n",
    "\n",
    "    def decision(self, current_stock):\n",
    "        reorder_qty = self.reorder_quantity()\n",
    "        if current_stock < reorder_qty:\n",
    "            print(f\"{self.name} - Place an order\")\n",
    "        else:\n",
    "            print(f\"{self.name} - Stock is fine\")\n",
    "\n",
    "\n",
    "# Example usage\n",
    "pr = Products(\"Laptop\", 2000, 30000, [20, 30, 40, 50], 400, 20)\n",
    "pr.average_sales()\n",
    "pr.reorder_quantity()\n",
    "pr.decision(500)"
   ]
  }
 ],
 "metadata": {
  "kernelspec": {
   "display_name": "anaconda-panel-2023.05-py310",
   "language": "python",
   "name": "conda-env-anaconda-panel-2023.05-py310-py"
  },
  "language_info": {
   "codemirror_mode": {
    "name": "ipython",
    "version": 3
   },
   "file_extension": ".py",
   "mimetype": "text/x-python",
   "name": "python",
   "nbconvert_exporter": "python",
   "pygments_lexer": "ipython3",
   "version": "3.11.5"
  }
 },
 "nbformat": 4,
 "nbformat_minor": 5
}
