{
 "cells": [
  {
   "cell_type": "code",
   "execution_count": 3,
   "id": "ac87cf00-a68e-4df4-ba5b-e923e555bfe1",
   "metadata": {},
   "outputs": [
    {
     "name": "stdout",
     "output_type": "stream",
     "text": [
      "Tails\n"
     ]
    }
   ],
   "source": [
    "#Testing Random function\n",
    "\n",
    "import random\n",
    "\n",
    "num = random.randint(0,1)\n",
    "\n",
    "if num == 0:\n",
    "    print(\"Heads\")\n",
    "\n",
    "else:\n",
    "    print(\"Tails\")\n",
    "\n"
   ]
  },
  {
   "cell_type": "code",
   "execution_count": 9,
   "id": "f6342ca2-90ea-4800-8049-1535f4bf96ab",
   "metadata": {},
   "outputs": [
    {
     "name": "stdin",
     "output_type": "stream",
     "text": [
      "Enter the product for which you want to check inventory for ? Bosch Heaters\n",
      "What is your current inventory? 600\n"
     ]
    },
    {
     "name": "stdout",
     "output_type": "stream",
     "text": [
      "Overstock situation, reduce ordering\n"
     ]
    }
   ],
   "source": [
    "#Check reorder using Nested if and elif\n",
    "print(\"Welcome to your Reoder Calculator\")\n",
    "Product = input(\"Enter the product for which you want to check inventory for ?\")\n",
    "Inventory = int(input(\"What is your current inventory?\"))\n",
    "\n",
    "if Inventory < 100:\n",
    "    print(\"Inmmediate Reorder required\")\n",
    "    if Inventory < 20:\n",
    "        \n",
    "        print(\"Critical Immediate reorder required\")\n",
    "    elif Inventory < 50:\n",
    "         print(\"Very low stock. Place reorder soon\")\n",
    "    else:\n",
    "        print(\"Stock is moderate but below 100\")\n",
    "\n",
    "        \n",
    "elif Inventory >= 100 and Inventory < 500:  \n",
    "    print(\"✅ Stock is healthy\")\n",
    "\n",
    "else:   \n",
    "    print(\"Overstock situation, reduce ordering\")\n",
    "    \n",
    "            "
   ]
  },
  {
   "cell_type": "code",
   "execution_count": 9,
   "id": "c69ecb9c-0522-45fa-a243-10819641a904",
   "metadata": {},
   "outputs": [
    {
     "name": "stdout",
     "output_type": "stream",
     "text": [
      "day1:sold21units\n",
      "day2:sold29units\n",
      "day3:sold46units\n",
      "day4:sold38units\n",
      "day5:sold49units\n",
      "day6:sold24units\n",
      "day7:sold36units\n",
      "Lowest-selling day:day 1 with 21 sales\n",
      "Best-selling day:day 5 with 49 sales\n"
     ]
    }
   ],
   "source": [
    "#Random to simulate sales\n",
    "import random\n",
    "\n",
    "Sales = []\n",
    "\n",
    "for Salescount in range(7):\n",
    "    Sales.append(random.randint(20,50))\n",
    "\n",
    "for num, salessum in enumerate(Sales, start =1):\n",
    "    print(f\"day{num}:sold{salessum}units\")\n",
    "\n",
    "min_value = min(Sales)\n",
    "max_value = max(Sales)\n",
    "\n",
    "min_index = Sales.index(min_value) + 1\n",
    "max_index = Sales.index(max_value) + 1\n",
    "\n",
    "print(f\"Lowest-selling day:day {min_index} with {min_value} sales\")\n",
    "print(f\"Best-selling day:day {max_index} with {max_value} sales\")"
   ]
  },
  {
   "cell_type": "code",
   "execution_count": null,
   "id": "5e4955dc-7467-431a-a53b-a58563a487b9",
   "metadata": {},
   "outputs": [],
   "source": []
  }
 ],
 "metadata": {
  "kernelspec": {
   "display_name": "anaconda-panel-2023.05-py310",
   "language": "python",
   "name": "conda-env-anaconda-panel-2023.05-py310-py"
  },
  "language_info": {
   "codemirror_mode": {
    "name": "ipython",
    "version": 3
   },
   "file_extension": ".py",
   "mimetype": "text/x-python",
   "name": "python",
   "nbconvert_exporter": "python",
   "pygments_lexer": "ipython3",
   "version": "3.11.5"
  }
 },
 "nbformat": 4,
 "nbformat_minor": 5
}
