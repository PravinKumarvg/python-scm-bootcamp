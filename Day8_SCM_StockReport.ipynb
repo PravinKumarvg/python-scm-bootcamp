{
 "cells": [
  {
   "cell_type": "code",
   "execution_count": 1,
   "id": "e5e78af1-dd45-443f-9493-cc750f8e5a37",
   "metadata": {},
   "outputs": [
    {
     "name": "stdin",
     "output_type": "stream",
     "text": [
      "What is your current age ? 25\n"
     ]
    },
    {
     "name": "stdout",
     "output_type": "stream",
     "text": [
      "You have 3380 weeks left\n"
     ]
    }
   ],
   "source": [
    "#Test function Age Calculator\n",
    "\n",
    "def life_in_weeks(age):\n",
    "    \n",
    "    total = 90*52\n",
    "    currentweek = age * 52\n",
    "    youremainingweek = total - currentweek\n",
    "     \n",
    "     \n",
    "    print(f\"You have {youremainingweek} weeks left\")\n",
    "    \n",
    "ageinput = int(input(\"What is your current age ?\"))\n",
    "life_in_weeks(ageinput)\n"
   ]
  },
  {
   "cell_type": "code",
   "execution_count": 9,
   "id": "ca8d852b-e754-4795-880c-580615213221",
   "metadata": {},
   "outputs": [
    {
     "name": "stdout",
     "output_type": "stream",
     "text": [
      "ProductLaptop has 50 stock\n",
      "ProductMobile has 120 stock\n",
      "ProductTablet has 30 stock\n",
      "ProductPrinter has 80 stock\n",
      "The total stock value is 280\n"
     ]
    }
   ],
   "source": [
    "#Welcome to Stock calculator product level\n",
    "\n",
    "import statistics\n",
    "\n",
    "products = [\"Laptop\", \"Mobile\", \"Tablet\", \"Printer\"]\n",
    "stock = [50, 120, 30, 80]\n",
    "\n",
    "for i, j in zip(products, stock):\n",
    "    print(f\"Product{i} has {j} stock\")\n",
    "\n",
    "Total = sum(stock)\n",
    "print(f\"The total stock value is {Total}\")\n",
    "    "
   ]
  },
  {
   "cell_type": "code",
   "execution_count": 1,
   "id": "0c40d4d8-fd4e-44ef-8ea3-167c18b73a51",
   "metadata": {},
   "outputs": [
    {
     "name": "stdout",
     "output_type": "stream",
     "text": [
      "Safetystock breached for Laptop\n",
      "Safety stock is ok for Mobile\n",
      "Safetystock breached for Tablet\n"
     ]
    }
   ],
   "source": [
    "#SafetStockAlert Calculator\n",
    "\n",
    "products = [\n",
    "    {\"name\": \"Laptop\", \"stock\": 40, \"safety_stock\": 50},\n",
    "    {\"name\": \"Mobile\", \"stock\": 150, \"safety_stock\": 100},\n",
    "    {\"name\": \"Tablet\", \"stock\": 20, \"safety_stock\": 30}\n",
    "]\n",
    "\n",
    "\n",
    "for i in products:\n",
    "    if i[\"stock\"] < i[\"safety_stock\"]:\n",
    "        print(f\"Safetystock breached for {i['name']}\")\n",
    "\n",
    "    else:\n",
    "        print(f\"Safety stock is ok for {i['name']}\")\n",
    "    "
   ]
  },
  {
   "cell_type": "code",
   "execution_count": null,
   "id": "91d93f99-51b2-47e1-ac14-05c380b89e5c",
   "metadata": {},
   "outputs": [],
   "source": []
  }
 ],
 "metadata": {
  "kernelspec": {
   "display_name": "anaconda-panel-2023.05-py310",
   "language": "python",
   "name": "conda-env-anaconda-panel-2023.05-py310-py"
  },
  "language_info": {
   "codemirror_mode": {
    "name": "ipython",
    "version": 3
   },
   "file_extension": ".py",
   "mimetype": "text/x-python",
   "name": "python",
   "nbconvert_exporter": "python",
   "pygments_lexer": "ipython3",
   "version": "3.11.5"
  }
 },
 "nbformat": 4,
 "nbformat_minor": 5
}
