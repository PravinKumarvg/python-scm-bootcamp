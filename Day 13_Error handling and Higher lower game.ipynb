{
 "cells": [
  {
   "cell_type": "code",
   "execution_count": 6,
   "id": "4aa8c99a-ff5b-422e-a0c7-b34aa97a7017",
   "metadata": {},
   "outputs": [
    {
     "name": "stdin",
     "output_type": "stream",
     "text": [
      "What is your age? Ten\n"
     ]
    },
    {
     "name": "stdout",
     "output_type": "stream",
     "text": [
      "You have typed a invalid value. Please try with numerical value\n"
     ]
    },
    {
     "name": "stdin",
     "output_type": "stream",
     "text": [
      "What is your age? 10\n"
     ]
    },
    {
     "name": "stdout",
     "output_type": "stream",
     "text": [
      "You are not eligibile to drive now\n"
     ]
    }
   ],
   "source": [
    "#Debugging Try and except\n",
    "\n",
    "try:\n",
    "    age = int(input(\"What is your age?\"))\n",
    "except ValueError:\n",
    "\n",
    "    print(\"You have typed a invalid value. Please try with numerical value\")\n",
    "    age = int(input(\"What is your age?\"))\n",
    "\n",
    "if age >18:\n",
    "    print(\"You can drive now\")\n",
    "else:\n",
    "    print(\"You are not eligibile to drive now\")\n",
    "    "
   ]
  },
  {
   "cell_type": "code",
   "execution_count": 7,
   "id": "00d4f55f-8f7c-4252-98bd-0323b09e2b49",
   "metadata": {},
   "outputs": [
    {
     "name": "stdin",
     "output_type": "stream",
     "text": [
      " 20\n",
      " 400\n"
     ]
    },
    {
     "name": "stdout",
     "output_type": "stream",
     "text": [
      "Page : 20\n",
      "words_per_page : 400\n",
      "8000\n"
     ]
    }
   ],
   "source": [
    "#Debugging using print statement\n",
    "\n",
    "word_per_page = 0\n",
    "\n",
    "page = int(input())\n",
    "word_per_page = int(input())\n",
    "\n",
    "Total_words_per_page = page * word_per_page\n",
    "\n",
    "#To give an idea to user about what was the value using print statement\n",
    "print(f\"Page : {page}\")\n",
    "print(f\"words_per_page : {word_per_page}\")\n",
    "\n",
    "print(Total_words_per_page)"
   ]
  },
  {
   "cell_type": "code",
   "execution_count": 8,
   "id": "3751fb6c-13d4-4ea1-bb30-046c525f5224",
   "metadata": {},
   "outputs": [
    {
     "name": "stdin",
     "output_type": "stream",
     "text": [
      "Do you want to start the game? Yes\n"
     ]
    },
    {
     "name": "stdout",
     "output_type": "stream",
     "text": [
      "Welcome to the game\n",
      "Who is popular Virat Kohli or Dhoni ?\n"
     ]
    },
    {
     "name": "stdin",
     "output_type": "stream",
     "text": [
      " Dhoni\n"
     ]
    },
    {
     "name": "stdout",
     "output_type": "stream",
     "text": [
      "You won score is 1\n",
      "Who has more centuries ? Dhoni or Kohli \n"
     ]
    },
    {
     "name": "stdin",
     "output_type": "stream",
     "text": [
      " Kohli\n"
     ]
    },
    {
     "name": "stdout",
     "output_type": "stream",
     "text": [
      "Correct answer Your score is 2\n",
      "Congratulations! You won the game\n"
     ]
    }
   ],
   "source": [
    "#Higher Lower game\n",
    "\n",
    "#Higher Lower game Cricket\n",
    "\n",
    "Consent = input(\"Do you want to start the game?\")\n",
    "userresponse = ''\n",
    "score = 0\n",
    "if Consent == \"Yes\":\n",
    "    print(\"Welcome to the game\")\n",
    "    q1 = (\"Who is popular Virat Kohli or Dhoni ?\")\n",
    "    print(q1)\n",
    "    userresponse = input()\n",
    "    if userresponse == \"Dhoni\":\n",
    "        score += 1\n",
    "        print(f\"You won score is {score}\")\n",
    "    else:\n",
    "        print(\"Your score is 0\")\n",
    "        exit()\n",
    "\n",
    "    q2 = (\"Who has more centuries ? Dhoni or Kohli \")\n",
    "    print(q2)\n",
    "    userresponse = input()\n",
    "    if userresponse == \"Kohli\":\n",
    "        score += 1\n",
    "        print(f\"Correct answer Your score is {score}\")\n",
    "    else:\n",
    "        print(f\"You lose score is {score} Game Over\")\n",
    "        exit()\n",
    "\n",
    "    print(\"Congratulations! You won the game\")\n",
    "\n",
    "else:\n",
    "    print(\"Better luck next time\")"
   ]
  },
  {
   "cell_type": "code",
   "execution_count": null,
   "id": "a0e75bc9-b7b5-4c94-be8f-c9664ddeb30e",
   "metadata": {},
   "outputs": [],
   "source": []
  }
 ],
 "metadata": {
  "kernelspec": {
   "display_name": "anaconda-panel-2023.05-py310",
   "language": "python",
   "name": "conda-env-anaconda-panel-2023.05-py310-py"
  },
  "language_info": {
   "codemirror_mode": {
    "name": "ipython",
    "version": 3
   },
   "file_extension": ".py",
   "mimetype": "text/x-python",
   "name": "python",
   "nbconvert_exporter": "python",
   "pygments_lexer": "ipython3",
   "version": "3.11.5"
  }
 },
 "nbformat": 4,
 "nbformat_minor": 5
}
