{
 "cells": [
  {
   "cell_type": "code",
   "execution_count": 1,
   "id": "52f85b1d-2b42-4c19-b2d6-33e312b1328c",
   "metadata": {},
   "outputs": [
    {
     "name": "stdout",
     "output_type": "stream",
     "text": [
      "Laptop --> stock 50 stockvalue 1500000\n",
      "Mobile --> stock 100 stockvalue 2000000\n",
      "Tablet --> stock 30 stockvalue 450000\n"
     ]
    }
   ],
   "source": [
    "#SCM Stock Value Calculator\n",
    "\n",
    "products = [\n",
    "    {\"name\": \"Laptop\", \"stock\": 50, \"price\": 30000},\n",
    "    {\"name\": \"Mobile\", \"stock\": 100, \"price\": 20000},\n",
    "    {\"name\": \"Tablet\", \"stock\": 30, \"price\": 15000}\n",
    "]\n",
    "\n",
    "for i in products:\n",
    "    stock_value = i[\"stock\"] * i[\"price\"]\n",
    "    print(f\"{i['name']} --> stock {i['stock']} stockvalue {stock_value}\")"
   ]
  },
  {
   "cell_type": "code",
   "execution_count": 18,
   "id": "95b80716-fe69-43ad-8f97-71d9454a755d",
   "metadata": {},
   "outputs": [
    {
     "name": "stdout",
     "output_type": "stream",
     "text": [
      "Laptop-> Breach\n",
      "Mobile-> Safe\n",
      "Tablet-> Breach\n"
     ]
    }
   ],
   "source": [
    "#Reorder quantity calculator\n",
    "\n",
    "\n",
    "\n",
    "def check_safety_stock(stock, safety_stock):\n",
    "    if stock < safety_stock:\n",
    "        return \"Breach\"\n",
    "\n",
    "    else:\n",
    "        return \"Safe\"\n",
    "\n",
    "\n",
    "products = [\n",
    "    {\"name\": \"Laptop\", \"stock\": 10, \"safety_stock\": 50},\n",
    "    {\"name\": \"Mobile\", \"stock\": 95, \"safety_stock\": 50},\n",
    "    {\"name\": \"Tablet\", \"stock\":45, \"safety_stock\": 54}\n",
    "]\n",
    "\n",
    "for product in products:\n",
    "    \n",
    "    safetystock = check_safety_stock(\n",
    "        product[\"stock\"],\n",
    "        product[\"safety_stock\"])\n",
    "    print(f\"{product['name']}-> {safetystock}\")\n",
    "    \n",
    "    "
   ]
  },
  {
   "cell_type": "code",
   "execution_count": 21,
   "id": "61d37982-4eaf-4374-91ca-37dda1be0e7e",
   "metadata": {},
   "outputs": [
    {
     "name": "stdout",
     "output_type": "stream",
     "text": [
      "Laptop --> Forecast error 4900.0\n",
      "Mobile --> Forecast error 35.714285714285715\n",
      "Tablet --> Forecast error 10.344827586206897\n"
     ]
    }
   ],
   "source": [
    "#Forecast Accuracy MAPE Calculator \n",
    "\n",
    "def calculate_error(actual, forecast):\n",
    "    error = abs((actual - forecast) / actual) * 100\n",
    "    return error\n",
    "    \n",
    "\n",
    "\n",
    "products = [\n",
    "    {\"name\": \"Laptop\", \"Actual\": 100, \"forecast\": 5000},\n",
    "    {\"name\": \"Mobile\", \"Actual\": 1400, \"forecast\": 1900},\n",
    "    {\"name\": \"Tablet\", \"Actual\":2900, \"forecast\": 3200}\n",
    "]\n",
    "\n",
    "\n",
    "for product in products:\n",
    "    result = calculate_error(product['Actual'], product['forecast'])\n",
    "    print(f\"{product['name']} --> Forecast error {result}\")"
   ]
  },
  {
   "cell_type": "code",
   "execution_count": null,
   "id": "cbc5a8d6-8dc4-4a23-860b-76e651b1e5e0",
   "metadata": {},
   "outputs": [],
   "source": []
  }
 ],
 "metadata": {
  "kernelspec": {
   "display_name": "anaconda-panel-2023.05-py310",
   "language": "python",
   "name": "conda-env-anaconda-panel-2023.05-py310-py"
  },
  "language_info": {
   "codemirror_mode": {
    "name": "ipython",
    "version": 3
   },
   "file_extension": ".py",
   "mimetype": "text/x-python",
   "name": "python",
   "nbconvert_exporter": "python",
   "pygments_lexer": "ipython3",
   "version": "3.11.5"
  }
 },
 "nbformat": 4,
 "nbformat_minor": 5
}
