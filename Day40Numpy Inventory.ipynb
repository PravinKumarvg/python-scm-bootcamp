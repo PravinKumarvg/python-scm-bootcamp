{
 "cells": [
  {
   "cell_type": "code",
   "execution_count": 13,
   "id": "214dce1b-7e03-4ecf-b7ef-5c1f7f34219a",
   "metadata": {},
   "outputs": [
    {
     "name": "stdout",
     "output_type": "stream",
     "text": [
      "Stock value: [4200 4000 3000 3600]\n",
      "TotalValue: 14800\n",
      "Highest Stock value Index: 0-->Laptop\n"
     ]
    }
   ],
   "source": [
    "\n",
    "import statistics\n",
    "import numpy as np\n",
    "\n",
    "stock = np.array([120, 80, 150, 40])\n",
    "price = np.array([35, 50, 20, 90])\n",
    "sku = np.array([\"Laptop\", \"Mobile\", \"Tablet\", \"Printer\"])\n",
    "\n",
    "stockval = stock*price\n",
    "\n",
    "total_value = np.sum(stockval)\n",
    "HighestIndex = np.argmax(stockval)\n",
    "highest_sku = sku[HighestIndex]\n",
    "\n",
    "\n",
    "print(f\"Stock value: {stockval}\")\n",
    "print(f\"TotalValue: {total_value}\")\n",
    "print(f\"Highest Stock value Index: {HighestIndex}-->{highest_sku}\")"
   ]
  },
  {
   "cell_type": "code",
   "execution_count": 26,
   "id": "6ba65a99-d4d1-4afd-8b2a-ac77848312ca",
   "metadata": {},
   "outputs": [
    {
     "name": "stdout",
     "output_type": "stream",
     "text": [
      "\n",
      "Initial stock for Laptop: 120\n",
      "Day 1: Demand = 25, Remaining stock = 95\n",
      "Day 2: Demand = 6, Remaining stock = 89\n",
      "Day 3: Demand = 19, Remaining stock = 70\n",
      "Day 4: Demand = 22, Remaining stock = 48\n",
      "Day 5: Demand = 19, Remaining stock = 29\n",
      "Day 6: Demand = 8, Remaining stock = 21\n",
      "Day 7: Demand = 24, Remaining stock = -3\n",
      "\n",
      "Initial stock for Mobile: 80\n",
      "Day 1: Demand = 12, Remaining stock = 68\n",
      "Day 2: Demand = 17, Remaining stock = 51\n",
      "Day 3: Demand = 13, Remaining stock = 38\n",
      "Day 4: Demand = 8, Remaining stock = 30\n",
      "Day 5: Demand = 21, Remaining stock = 9\n",
      "Day 6: Demand = 5, Remaining stock = 4\n",
      "Day 7: Demand = 6, Remaining stock = -2\n",
      "\n",
      "Initial stock for Tablet: 150\n",
      "Day 1: Demand = 16, Remaining stock = 134\n",
      "Day 2: Demand = 24, Remaining stock = 110\n",
      "Day 3: Demand = 25, Remaining stock = 85\n",
      "Day 4: Demand = 7, Remaining stock = 78\n",
      "Day 5: Demand = 24, Remaining stock = 54\n",
      "Day 6: Demand = 18, Remaining stock = 36\n",
      "Day 7: Demand = 14, Remaining stock = 22\n",
      "\n",
      "Initial stock for Printer: 40\n",
      "Day 1: Demand = 21, Remaining stock = 19\n",
      "Day 2: Demand = 14, Remaining stock = 5\n",
      "Day 3: Demand = 19, Remaining stock = -14\n",
      "Day 4: Demand = 15, Remaining stock = -29\n",
      "Day 5: Demand = 19, Remaining stock = -48\n",
      "Day 6: Demand = 23, Remaining stock = -71\n",
      "Day 7: Demand = 10, Remaining stock = -81\n"
     ]
    }
   ],
   "source": [
    "import random\n",
    "\n",
    "import random\n",
    "sku = [\"Laptop\", \"Mobile\", \"Tablet\", \"Printer\"]\n",
    "stock = [120, 80, 150, 40]  \n",
    "\n",
    "for item, current_stock in zip(sku, stock):\n",
    "    print(f\"\\nInitial stock for {item}: {current_stock}\")\n",
    "    for day in range(7):\n",
    "        daily_demand = random.randint(5, 25)\n",
    "        current_stock -= daily_demand\n",
    "        print(f\"Day {day+1}: Demand = {daily_demand}, Remaining stock = {current_stock}\")\n",
    "       \n",
    "            \n",
    "        \n",
    "        \n",
    "\n",
    "        \n",
    "\n",
    "    \n",
    "        "
   ]
  },
  {
   "cell_type": "code",
   "execution_count": null,
   "id": "ee75dd8e-381a-4cdb-816e-557dfbb8337f",
   "metadata": {},
   "outputs": [],
   "source": []
  }
 ],
 "metadata": {
  "kernelspec": {
   "display_name": "anaconda-panel-2023.05-py310",
   "language": "python",
   "name": "conda-env-anaconda-panel-2023.05-py310-py"
  },
  "language_info": {
   "codemirror_mode": {
    "name": "ipython",
    "version": 3
   },
   "file_extension": ".py",
   "mimetype": "text/x-python",
   "name": "python",
   "nbconvert_exporter": "python",
   "pygments_lexer": "ipython3",
   "version": "3.11.5"
  }
 },
 "nbformat": 4,
 "nbformat_minor": 5
}
