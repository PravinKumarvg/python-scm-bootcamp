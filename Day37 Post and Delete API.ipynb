{
 "cells": [
  {
   "cell_type": "code",
   "execution_count": 5,
   "id": "0a319b51-2cd8-4fbb-85e5-ba6839aff2a0",
   "metadata": {},
   "outputs": [
    {
     "name": "stdout",
     "output_type": "stream",
     "text": [
      "{\"message\":\"Success. Let's visit https://pixe.la/@pravinvg , it is your profile page!\",\"isSuccess\":true}\n"
     ]
    }
   ],
   "source": [
    "#post API to create a username\n",
    "\n",
    "import requests\n",
    "\n",
    "pixela_endpoint = \"https://pixe.la/v1/users\"\n",
    "\n",
    "\n",
    "user_params = {\n",
    "    \"token\": \"hjdhjs53hjhjkj\",\n",
    "    \"username\": \"pravinvg\",\n",
    "    \"agreeTermsOfService\" : \"yes\",\n",
    "    \"notMinor\":\"yes\",\n",
    "}\n",
    "        \n",
    "    \n",
    "\n",
    "response = requests.post(url = pixela_endpoint, json = user_params)\n",
    "print(response.text)\n",
    "\n"
   ]
  },
  {
   "cell_type": "code",
   "execution_count": 11,
   "id": "4bf67f13-1ba1-43d2-9e34-8b146259dcc2",
   "metadata": {},
   "outputs": [
    {
     "name": "stdout",
     "output_type": "stream",
     "text": [
      "{\"message\":\"Success.\",\"isSuccess\":true}\n"
     ]
    }
   ],
   "source": [
    "#Use the created API and user name and pixela\n",
    "import requests\n",
    "\n",
    "TOKEN = \"hjdhjs53hjhjkj\"\n",
    "USERNAME = \"pravinvg\"\n",
    "\n",
    "pixela_endpoint = \"https://pixe.la/v1/users\"\n",
    "\n",
    "user_params = {\n",
    "    \"token\": TOKEN,\n",
    "    \"username\": USERNAME,\n",
    "    \"agreeTermsOfService\": \"yes\",\n",
    "    \"notMinor\": \"yes\",\n",
    "}\n",
    "\n",
    "# Create user (uncomment if needed)\n",
    "# response = requests.post(url=pixela_endpoint, json=user_params)\n",
    "# print(response.text)\n",
    "\n",
    "# Create graph\n",
    "graph_endpoint = f\"{pixela_endpoint}/{USERNAME}/graphs\"\n",
    "\n",
    "graph_config = {\n",
    "    \"id\": \"graph1\",\n",
    "    \"name\": \"Cycling Graph\",\n",
    "    \"unit\": \"km\",\n",
    "    \"type\": \"float\",\n",
    "    \"color\": \"ajisai\"\n",
    "}\n",
    "\n",
    "headers = {\n",
    "    \"X-USER-TOKEN\": TOKEN\n",
    "}\n",
    "\n",
    "response = requests.post(url=graph_endpoint, json=graph_config, headers=headers)\n",
    "print(response.text)\n"
   ]
  },
  {
   "cell_type": "code",
   "execution_count": 17,
   "id": "95c2c81e-8373-4698-a22f-5e8646150351",
   "metadata": {},
   "outputs": [
    {
     "name": "stdout",
     "output_type": "stream",
     "text": [
      "{\"message\":\"Please retry this request. Your request for some APIs will be rejected 25% of the time because you are not a Pixela supporter. If you are interested in being a Pixela supporter, please see: https://github.com/a-know/Pixela/wiki/How-to-support-Pixela-by-Patreon-%EF%BC%8F-Use-Limited-Features\",\"isSuccess\":false,\"isRejected\":true}\n"
     ]
    }
   ],
   "source": [
    "#Adding value to the graph\n",
    "\n",
    "import requests\n",
    "import datetime as dt\n",
    "\n",
    "TOKEN = \"hjdhjs53hjhjkj\"\n",
    "USERNAME = \"pravinvg\"\n",
    "GRAPH_ID= \"graph1\"\n",
    "pixela_endpoint = \"https://pixe.la/v1/users\"\n",
    "\n",
    "user_params = {\n",
    "    \"token\": TOKEN,\n",
    "    \"username\": USERNAME,\n",
    "    \"agreeTermsOfService\": \"yes\",\n",
    "    \"notMinor\": \"yes\",\n",
    "}\n",
    "\n",
    "# Create user (uncomment if needed)\n",
    "# response = requests.post(url=pixela_endpoint, json=user_params)\n",
    "# print(response.text)\n",
    "\n",
    "# Create graph\n",
    "graph_endpoint = f\"{pixela_endpoint}/{USERNAME}/graphs\"\n",
    "\n",
    "graph_config = {\n",
    "    \"id\": \"graph1\",\n",
    "    \"name\": \"Cycling Graph\",\n",
    "    \"unit\": \"km\",\n",
    "    \"type\": \"float\",\n",
    "    \"color\": \"ajisai\"\n",
    "}\n",
    "\n",
    "headers = {\n",
    "    \"X-USER-TOKEN\": TOKEN\n",
    "}\n",
    "\n",
    "pixel_creation_endpoint = f\"{pixela_endpoint}/{USERNAME}/graphs/{GRAPH_ID}\"\n",
    "\n",
    "#To automatically upadte date use Pythonstrftime to format the date\n",
    "today = dt.datetime.now()\n",
    "\n",
    "\n",
    "pixel_data = {\n",
    "    \"date\":today.strftime(\"%Y%m%d\"),\n",
    "    \"Quantity\": \"9.7\",\n",
    "}\n",
    "\n",
    "response = requests.post(url=pixel_creation_endpoint, json=pixel_data, headers=headers)\n",
    "print(response.text)\n"
   ]
  },
  {
   "cell_type": "code",
   "execution_count": 18,
   "id": "6b2b64c9-4fdd-41ad-8862-c9d6b3b191ff",
   "metadata": {},
   "outputs": [
    {
     "ename": "SyntaxError",
     "evalue": "f-string: unmatched '(' (2093454992.py, line 52)",
     "output_type": "error",
     "traceback": [
      "\u001b[0;36m  Cell \u001b[0;32mIn[18], line 52\u001b[0;36m\u001b[0m\n\u001b[0;31m    update_endpoint = f\"{pixela_endpoint}/{USERNAME}/graphs/{GRAPH_ID}/{today.strftime(\"%Y%m%d\")}\"\u001b[0m\n\u001b[0m                                                                                        ^\u001b[0m\n\u001b[0;31mSyntaxError\u001b[0m\u001b[0;31m:\u001b[0m f-string: unmatched '('\n"
     ]
    }
   ],
   "source": [
    "#Put\n",
    "\n",
    "\n",
    "import requests\n",
    "import datetime as dt\n",
    "\n",
    "TOKEN = \"hjdhjs53hjhjkj\"\n",
    "USERNAME = \"pravinvg\"\n",
    "GRAPH_ID= \"graph1\"\n",
    "pixela_endpoint = \"https://pixe.la/v1/users\"\n",
    "\n",
    "user_params = {\n",
    "    \"token\": TOKEN,\n",
    "    \"username\": USERNAME,\n",
    "    \"agreeTermsOfService\": \"yes\",\n",
    "    \"notMinor\": \"yes\",\n",
    "}\n",
    "\n",
    "# Create user (uncomment if needed)\n",
    "# response = requests.post(url=pixela_endpoint, json=user_params)\n",
    "# print(response.text)\n",
    "\n",
    "# Create graph\n",
    "graph_endpoint = f\"{pixela_endpoint}/{USERNAME}/graphs\"\n",
    "\n",
    "graph_config = {\n",
    "    \"id\": \"graph1\",\n",
    "    \"name\": \"Cycling Graph\",\n",
    "    \"unit\": \"km\",\n",
    "    \"type\": \"float\",\n",
    "    \"color\": \"ajisai\"\n",
    "}\n",
    "\n",
    "headers = {\n",
    "    \"X-USER-TOKEN\": TOKEN\n",
    "}\n",
    "\n",
    "pixel_creation_endpoint = f\"{pixela_endpoint}/{USERNAME}/graphs/{GRAPH_ID}\"\n",
    "\n",
    "#To automatically upadte date use Pythonstrftime to format the date\n",
    "today = dt.datetime.now()\n",
    "\n",
    "\n",
    "pixel_data = {\n",
    "    \"date\":today.strftime(\"%Y%m%d\"),\n",
    "    \"Quantity\": int(input(\"How may kilometers did you cycle today ?\")),\n",
    "}\n",
    "\n",
    "response = requests.post(url=pixel_creationx_endpoint, headers=headers)\n",
    "print(response.text)\n",
    "\n",
    "update_endpoint = f\"{pixela_endpoint}/{USERNAME}/graphs/{GRAPH_ID}/{today.strftime(\"%Y%m%d\")}\"\n",
    "\n",
    "new_pixel_data = {\n",
    "    \"quantity\":\"4.5\",\n",
    "}\n",
    "\n",
    "delete_endpoint = f\"{pixela_endpoint}/{USERNAME}/graphs/{GRAPH_ID}/{today.strftime(\"%Y%m%d\")}\"\n",
    "response = requests.delet(url=delete_endpoint, headers=headers)\n",
    "print(response.text)\n"
   ]
  },
  {
   "cell_type": "code",
   "execution_count": null,
   "id": "f194f08a-863a-4af4-80bb-df37d290b92c",
   "metadata": {},
   "outputs": [],
   "source": []
  }
 ],
 "metadata": {
  "kernelspec": {
   "display_name": "anaconda-panel-2023.05-py310",
   "language": "python",
   "name": "conda-env-anaconda-panel-2023.05-py310-py"
  },
  "language_info": {
   "codemirror_mode": {
    "name": "ipython",
    "version": 3
   },
   "file_extension": ".py",
   "mimetype": "text/x-python",
   "name": "python",
   "nbconvert_exporter": "python",
   "pygments_lexer": "ipython3",
   "version": "3.11.5"
  }
 },
 "nbformat": 4,
 "nbformat_minor": 5
}
