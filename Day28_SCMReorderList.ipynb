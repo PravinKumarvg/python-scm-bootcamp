{
 "cells": [
  {
   "cell_type": "code",
   "execution_count": 8,
   "id": "fa255201-9017-4061-a963-1a59c53b7892",
   "metadata": {},
   "outputs": [
    {
     "name": "stdout",
     "output_type": "stream",
     "text": [
      "      name  stock  price_per_unit  reorder_point\n",
      "0   Laptop     50           30000             40\n",
      "1   Mobile    100           20000             90\n",
      "2     Milk     10              50             20\n",
      "3  Printer     25           15000             20\n",
      "[1500000]\n",
      "[1500000, 2000000]\n",
      "[1500000, 2000000, 500]\n",
      "Product needing reorder point: Milk\n",
      "[1500000, 2000000, 500, 375000]\n"
     ]
    }
   ],
   "source": [
    "#ReorderPoint File reading\n",
    "\n",
    "import pandas\n",
    "\n",
    "stockvalue = []\n",
    "stock = []\n",
    "status = []\n",
    "product = []\n",
    "\n",
    "\n",
    "data = pandas.read_csv(\"Productlist.csv\")\n",
    "print(data)\n",
    "\n",
    "for index, row in data.iterrows():\n",
    "    product.append(row[\"name\"])\n",
    "    stock.append(row[\"stock\"])\n",
    "    stockv = row[\"stock\"] * row[\"price_per_unit\"]\n",
    "    stockvalue.append(stockv)\n",
    "    print(stockvalue)\n",
    "\n",
    "    if row[\"stock\"] < row[\"reorder_point\"]:\n",
    "        print(f\"Product needing reorder point: {row['name']}\")\n",
    "        status.append(\"Need Reorder\")\n",
    "\n",
    "    else:\n",
    "        status.append(\"Stock ok\")\n",
    "\n",
    "\n",
    "reorder_list = pandas.DataFrame({\n",
    "    \"Product\": product,\n",
    "    \"Stock\": stock,\n",
    "    \"Stock Value\": stockvalue,\n",
    "    \"Status\": status\n",
    "})\n",
    "\n",
    "    \n",
    "\n",
    "\n",
    "reorder_only = reorder_list[reorder_list[\"Status\"] == \"Need Reorder\"]\n",
    "reorder_only.to_csv(\"reorder_list.csv\", index=False)\n",
    "\n",
    "\n",
    "        \n",
    "\n",
    "    "
   ]
  },
  {
   "cell_type": "code",
   "execution_count": null,
   "id": "bfa7bfb1-4531-4155-ad38-f7a4392c065f",
   "metadata": {},
   "outputs": [],
   "source": []
  }
 ],
 "metadata": {
  "kernelspec": {
   "display_name": "anaconda-panel-2023.05-py310",
   "language": "python",
   "name": "conda-env-anaconda-panel-2023.05-py310-py"
  },
  "language_info": {
   "codemirror_mode": {
    "name": "ipython",
    "version": 3
   },
   "file_extension": ".py",
   "mimetype": "text/x-python",
   "name": "python",
   "nbconvert_exporter": "python",
   "pygments_lexer": "ipython3",
   "version": "3.11.5"
  }
 },
 "nbformat": 4,
 "nbformat_minor": 5
}
