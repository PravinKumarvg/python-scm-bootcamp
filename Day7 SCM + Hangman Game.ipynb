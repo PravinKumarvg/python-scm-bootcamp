{
 "cells": [
  {
   "cell_type": "code",
   "execution_count": 8,
   "id": "4cbb5416-a0ec-4b72-ae87-7eb728983ee7",
   "metadata": {},
   "outputs": [
    {
     "name": "stdout",
     "output_type": "stream",
     "text": [
      "Welcome to Hangman!\n",
      "Guess the word: _ _ _ _ _ _\n"
     ]
    },
    {
     "name": "stdin",
     "output_type": "stream",
     "text": [
      "Guess a letter:  m\n"
     ]
    },
    {
     "name": "stdout",
     "output_type": "stream",
     "text": [
      "_ _ _ _ _ _\n",
      "Guess again...\n",
      "\n"
     ]
    },
    {
     "name": "stdin",
     "output_type": "stream",
     "text": [
      "Guess a letter:  i\n"
     ]
    },
    {
     "name": "stdout",
     "output_type": "stream",
     "text": [
      "_ _ _ i _ _\n",
      "Guess again...\n",
      "\n"
     ]
    },
    {
     "name": "stdin",
     "output_type": "stream",
     "text": [
      "Guess a letter:  s\n"
     ]
    },
    {
     "name": "stdout",
     "output_type": "stream",
     "text": [
      "s _ _ i s _\n",
      "Guess again...\n",
      "\n"
     ]
    },
    {
     "name": "stdin",
     "output_type": "stream",
     "text": [
      "Guess a letter:  h\n"
     ]
    },
    {
     "name": "stdout",
     "output_type": "stream",
     "text": [
      "s _ _ i s h\n",
      "Guess again...\n",
      "\n"
     ]
    },
    {
     "name": "stdin",
     "output_type": "stream",
     "text": [
      "Guess a letter:  a\n"
     ]
    },
    {
     "name": "stdout",
     "output_type": "stream",
     "text": [
      "s a _ i s h\n",
      "Guess again...\n",
      "\n"
     ]
    },
    {
     "name": "stdin",
     "output_type": "stream",
     "text": [
      "Guess a letter:  t\n"
     ]
    },
    {
     "name": "stdout",
     "output_type": "stream",
     "text": [
      "s a t i s h\n",
      "You won! 🎉\n"
     ]
    }
   ],
   "source": [
    "\n",
    "import random\n",
    "\n",
    "wordlist = [\"pravin\", \"kumar\", \"satish\"]\n",
    "systemguess = random.choice(wordlist)\n",
    "\n",
    "# Create placeholder with underscores\n",
    "display = ['_' for _ in systemguess]\n",
    "\n",
    "game_over = False\n",
    "\n",
    "print(\"Welcome to Hangman!\")\n",
    "print(\"Guess the word:\", ' '.join(display))\n",
    "\n",
    "while not game_over:\n",
    "    userguess = input(\"Guess a letter: \").lower()\n",
    "\n",
    "    # Check if guessed letter is in the word\n",
    "    for index, letter in enumerate(systemguess):\n",
    "        if letter == userguess:\n",
    "            display[index] = letter\n",
    "\n",
    "    print(' '.join(display))\n",
    "\n",
    "    if '_' not in display:\n",
    "        game_over = True\n",
    "        print(\"You won! 🎉\")\n",
    "    else:\n",
    "        print(\"Guess again...\\n\")\n"
   ]
  },
  {
   "cell_type": "code",
   "execution_count": 14,
   "id": "eafb776b-cb6f-4f4d-9780-7de3fc188b08",
   "metadata": {},
   "outputs": [
    {
     "name": "stdout",
     "output_type": "stream",
     "text": [
      "Welcome to sales simulator\n",
      "Day 1 sold 29 units\n",
      "Day 2 sold 35 units\n",
      "Day 3 sold 29 units\n",
      "Day 4 sold 25 units\n",
      "Day 5 sold 28 units\n",
      "Day 6 sold 23 units\n",
      "Totalsales is 169\n"
     ]
    }
   ],
   "source": [
    "#Generating 7 day sales\n",
    "\n",
    "import statistics\n",
    "import random\n",
    "print(\"Welcome to sales simulator\")\n",
    "\n",
    "sales = []\n",
    "\n",
    "for i in range(1,7):\n",
    "    sale_value = random.randint(20,50)\n",
    "    sales.append(sale_value)\n",
    "\n",
    "\n",
    "for num, salessum in enumerate(sales, start = 1):\n",
    "    print(f\"Day {num} sold {salessum} units\")\n",
    "\n",
    "Total = sum(sales)\n",
    "print(f\"Totalsales is {Total}\")"
   ]
  },
  {
   "cell_type": "code",
   "execution_count": null,
   "id": "3bf9d8be-c60a-4302-9808-b96079c1c3b4",
   "metadata": {},
   "outputs": [],
   "source": []
  }
 ],
 "metadata": {
  "kernelspec": {
   "display_name": "anaconda-panel-2023.05-py310",
   "language": "python",
   "name": "conda-env-anaconda-panel-2023.05-py310-py"
  },
  "language_info": {
   "codemirror_mode": {
    "name": "ipython",
    "version": 3
   },
   "file_extension": ".py",
   "mimetype": "text/x-python",
   "name": "python",
   "nbconvert_exporter": "python",
   "pygments_lexer": "ipython3",
   "version": "3.11.5"
  }
 },
 "nbformat": 4,
 "nbformat_minor": 5
}
