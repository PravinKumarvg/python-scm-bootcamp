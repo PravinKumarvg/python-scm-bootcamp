{
 "cells": [
  {
   "cell_type": "code",
   "execution_count": 1,
   "id": "1d558fcb-5876-456e-bc01-aaf91b0240b7",
   "metadata": {},
   "outputs": [],
   "source": [
    "import smtplib\n",
    "\n",
    "my_email = \"pravinwalker@gmail.com\"\n",
    "password = \"xrnx kuig mxsd tepp\"\n",
    "\n",
    "with smtplib.SMTP(\"smtp.gmail.com\")as connection:\n",
    "    connection.starttls()\n",
    "    connection.login(user= my_email, password = password)\n",
    "    connection.sendmail(from_addr = my_email, to_addrs = 'pravinkumarvg@gmail.com', msg = 'subject:Hello\\n\\nThis is the body of the mail')"
   ]
  },
  {
   "cell_type": "code",
   "execution_count": 7,
   "id": "5495f715-b608-4a4f-81f5-1392dcda29c5",
   "metadata": {},
   "outputs": [
    {
     "name": "stdout",
     "output_type": "stream",
     "text": [
      "10 2025 4\n"
     ]
    }
   ],
   "source": [
    "#Working with date time module\n",
    "\n",
    "import datetime as dt\n",
    "\n",
    "now = dt.datetime.now()\n",
    "month = now.month\n",
    "year = now.year\n",
    "day_of_Week = now.weekday()\n",
    "print(month, year, day_of_Week)"
   ]
  },
  {
   "cell_type": "code",
   "execution_count": 14,
   "id": "0dbe06ce-890a-4de3-95f6-62673c3fc333",
   "metadata": {},
   "outputs": [
    {
     "name": "stdout",
     "output_type": "stream",
     "text": [
      "Mail sent\n"
     ]
    }
   ],
   "source": [
    "#Send motivation quotes on Monday\n",
    "\n",
    "import smtplib\n",
    "import datetime as dt\n",
    "\n",
    "my_email = \"pravinwalker@gmail.com\"\n",
    "password = \"xrnx kuig mxsd tepp\"\n",
    "\n",
    "now = dt.datetime.now()\n",
    "weekday = now.weekday()\n",
    "\n",
    "if weekday ==1:\n",
    "\n",
    "    with open(\"quotes.txt\") as quote_file:\n",
    "        quote =quote_file.read()\n",
    "        \n",
    "    with smtplib.SMTP(\"smtp.gmail.com\")as connection:\n",
    "        connection.starttls()\n",
    "        connection.login(user= my_email, password = password)\n",
    "        connection.sendmail(from_addr = my_email, to_addrs = 'pravinkumarvg@gmail.com', msg = f\"subject:Hello\\n\\n{quote}\")\n",
    "else:\n",
    "     with smtplib.SMTP(\"smtp.gmail.com\")as connection:\n",
    "        connection.starttls()\n",
    "        connection.login(user= my_email, password = password)\n",
    "        connection.sendmail(from_addr = my_email, to_addrs = 'pravinkumarvg@gmail.com', msg = \"subject:Hello\\n\\n Motivation is everywhere stay motivated.\")\n",
    "        print(\"Mail sent\")\n",
    "\n",
    "    \n",
    "    "
   ]
  },
  {
   "cell_type": "code",
   "execution_count": 10,
   "id": "a088835a-687c-45ff-9e28-8699d61d640a",
   "metadata": {},
   "outputs": [
    {
     "name": "stdout",
     "output_type": "stream",
     "text": [
      "💪 Monday motivation mail sent.\n"
     ]
    }
   ],
   "source": [
    "#Send motivation quotes on Monday\n",
    "\n",
    "import smtplib\n",
    "import datetime as dt\n",
    "import pandas\n",
    "\n",
    "# Your email credentials\n",
    "my_email = \"pravinwalker@gmail.com\"\n",
    "password = \"xrnx kuig mxsd tepp\"  # Make sure this is an app password\n",
    "\n",
    "# Get today's date\n",
    "today = dt.datetime.now()\n",
    "today_str = today.strftime(\"%d-%m\")\n",
    "weekday = today.weekday()  # Monday = 0\n",
    "\n",
    "# Read birthday data\n",
    "data = pandas.read_csv(\"birthdays_pr.csv\")\n",
    "\n",
    "# Flag to check if any birthday matched\n",
    "birthday_sent = False\n",
    "\n",
    "# Loop through each row to check for birthday match\n",
    "for index, row in data.iterrows():\n",
    "    if row[\"Birthday\"] == today_str:\n",
    "        birthday_sent = True\n",
    "        with smtplib.SMTP(\"smtp.gmail.com\") as connection:\n",
    "            connection.starttls()\n",
    "            connection.login(user=my_email, password=password)\n",
    "            connection.sendmail(\n",
    "                from_addr=my_email,\n",
    "                to_addrs=row[\"Email\"],  # Send to the person's email\n",
    "                msg=f\"Subject: Happy Birthday!\\n\\nHey {row['Name']}, wishing you a fantastic birthday!\"\n",
    "            )\n",
    "        print(f\"🎉 Birthday mail sent to {row['Name']}\")\n",
    "\n",
    "# If it's Monday and no birthday matched, send motivation mail\n",
    "if not birthday_sent:\n",
    "    with smtplib.SMTP(\"smtp.gmail.com\") as connection:\n",
    "        connection.starttls()\n",
    "        connection.login(user=my_email, password=password)\n",
    "        connection.sendmail(\n",
    "            from_addr=my_email,\n",
    "            to_addrs=\"pravinkumarvg@gmail.com\",  # You can change this to a list if needed\n",
    "            msg=\"Subject: Hello\\n\\nMotivation is everywhere. Stay focused and keep pushing forward!\"\n",
    "        )\n",
    "    print(\"💪 Monday motivation mail sent.\")\n",
    "    \n",
    "\n",
    "\n",
    "\n"
   ]
  },
  {
   "cell_type": "code",
   "execution_count": null,
   "id": "2d3765e4-a1ed-4905-84a2-386f8799cf86",
   "metadata": {},
   "outputs": [],
   "source": []
  }
 ],
 "metadata": {
  "kernelspec": {
   "display_name": "anaconda-panel-2023.05-py310",
   "language": "python",
   "name": "conda-env-anaconda-panel-2023.05-py310-py"
  },
  "language_info": {
   "codemirror_mode": {
    "name": "ipython",
    "version": 3
   },
   "file_extension": ".py",
   "mimetype": "text/x-python",
   "name": "python",
   "nbconvert_exporter": "python",
   "pygments_lexer": "ipython3",
   "version": "3.11.5"
  }
 },
 "nbformat": 4,
 "nbformat_minor": 5
}
