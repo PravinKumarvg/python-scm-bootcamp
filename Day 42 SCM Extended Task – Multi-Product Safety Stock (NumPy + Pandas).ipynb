{
 "cells": [
  {
   "cell_type": "code",
   "execution_count": 9,
   "id": "373e769d-be0a-4bf7-a2c8-b3ef054b9402",
   "metadata": {},
   "outputs": [
    {
     "name": "stdout",
     "output_type": "stream",
     "text": [
      "  Product  Mean_Demand    Std_Dev  Safety_Stock\n",
      "0  Laptop   545.000000  55.302200    129.045050\n",
      "1  Mobile   789.166667  18.911343     44.128718\n",
      "2  Tablet   329.583333  22.863575     53.351063\n"
     ]
    }
   ],
   "source": [
    "import numpy \n",
    "import pandas as pd\n",
    "\n",
    "products = [\"Laptop\", \"Mobile\", \"Tablet\"]\n",
    "\n",
    "laptop_demand = np.array([480, 520, 450, 610, 590, 560, 500, 530, 620, 580, 490, 610])\n",
    "mobile_demand = np.array([800, 780, 760, 810, 790, 770, 820, 800, 780, 760, 790, 810])\n",
    "tablet_demand = np.array([300, 280, 350, 340, 320, 310, 330, 345, 360, 355, 325, 340])\n",
    "\n",
    "Z = 1.65\n",
    "lead_time_weeks = 2\n",
    "\n",
    "laptopmean = numpy.mean(laptop_demand)\n",
    "Mobilemean = numpy.mean(mobile_demand)\n",
    "tabletmean = numpy.mean(tablet_demand)\n",
    "\n",
    "Std_laptop = numpy.std(laptop_demand)\n",
    "Std_mobile = numpy.std(mobile_demand)\n",
    "Std_tablet = numpy.std(tablet_demand)\n",
    "\n",
    "SS_laptop = Z * Std_laptop * np.sqrt(lead_time_weeks)\n",
    "SS_Mobile = Z * Std_mobile * np.sqrt(lead_time_weeks)\n",
    "SS_Tablet = Z * Std_tablet * np.sqrt(lead_time_weeks)\n",
    "\n",
    "\n",
    "\n",
    "data = pd.DataFrame({\n",
    "    \"Product\": products,\n",
    "    \"Mean_Demand\": [laptopmean, Mobilemean, tabletmean],\n",
    "    \"Std_Dev\": [Std_laptop, Std_mobile, Std_tablet],\n",
    "    \"Safety_Stock\": [SS_laptop, SS_Mobile, SS_Tablet]\n",
    "})\n",
    "\n",
    "# Display the DataFrame\n",
    "print(data)\n",
    "\n",
    "\n",
    "\n",
    "\n",
    "\n"
   ]
  },
  {
   "cell_type": "code",
   "execution_count": null,
   "id": "24d1ce08-2510-4193-a8e2-b0492639a685",
   "metadata": {},
   "outputs": [],
   "source": []
  }
 ],
 "metadata": {
  "kernelspec": {
   "display_name": "anaconda-panel-2023.05-py310",
   "language": "python",
   "name": "conda-env-anaconda-panel-2023.05-py310-py"
  },
  "language_info": {
   "codemirror_mode": {
    "name": "ipython",
    "version": 3
   },
   "file_extension": ".py",
   "mimetype": "text/x-python",
   "name": "python",
   "nbconvert_exporter": "python",
   "pygments_lexer": "ipython3",
   "version": "3.11.5"
  }
 },
 "nbformat": 4,
 "nbformat_minor": 5
}
