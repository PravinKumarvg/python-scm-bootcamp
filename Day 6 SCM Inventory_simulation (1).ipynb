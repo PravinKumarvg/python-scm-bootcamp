{
 "cells": [
  {
   "cell_type": "code",
   "execution_count": 1,
   "id": "96970c4b-4e51-4875-b249-6ab0b4162bb5",
   "metadata": {},
   "outputs": [
    {
     "name": "stdout",
     "output_type": "stream",
     "text": [
      "Stock is optimum for Laptop\n",
      "Stock is optimum for Mobile\n",
      "Reorder needed for Tablet\n"
     ]
    }
   ],
   "source": [
    "#Welcome to Reoder Calculator\n",
    "\n",
    "products = [\n",
    "    {\"name\": \"Laptop\", \"stock\": 40, \"reorder_point\": 30},\n",
    "    {\"name\": \"Mobile\", \"stock\": 100, \"reorder_point\": 80},\n",
    "    {\"name\": \"Tablet\", \"stock\": 20, \"reorder_point\": 25}\n",
    "]\n",
    "\n",
    "for i in products:\n",
    "    if i[\"stock\"] < i[\"reorder_point\"]:\n",
    "        print(f\"Reorder needed for {i['name']}\")\n",
    "\n",
    "    else:\n",
    "        print(f\"Stock is optimum for {i['name']}\")\n",
    "\n"
   ]
  },
  {
   "cell_type": "code",
   "execution_count": null,
   "id": "6e39538b-ac3e-43ce-862e-d741b8d12834",
   "metadata": {},
   "outputs": [],
   "source": [
    "#Welcome to Inventory simulator\n",
    "\n",
    "import random\n",
    "\n",
    "products = [\n",
    "    {\"name\": \"Laptop\", \"stock\": 100},\n",
    "    {\"name\": \"Mobile\", \"stock\": 80},\n",
    "    {\"name\": \"Tablet\", \"stock\": 60}\n",
    "]\n",
    "\n",
    "stock_out = False\n",
    "\n",
    "while not stock_out:\n",
    "    stock_out = True  # Assume all are out, then check\n",
    "\n",
    "    for prod in products:\n",
    "        if prod[\"stock\"] > 0:\n",
    "            stock_out = False  # At least one product still has stock\n",
    "\n",
    "            dailysales = random.randint(1, 7)\n",
    "            remaining_stock = prod[\"stock\"] - dailysales\n",
    "            prod[\"stock\"] -= dailysales\n",
    "\n",
    "            print(f\"Simulating sales for {prod['name']}\")\n",
    "            print(f\"Sold {dailysales} units, Remaining stock: {remaining_stock}\")\n",
    "\n",
    "            if prod[\"stock\"] <= 0:\n",
    "                print(f\"Stock out for {prod['name']}\")\n",
    "    print(\"-\" * 40)\n",
    "\n",
    "    \n",
    "    "
   ]
  },
  {
   "cell_type": "code",
   "execution_count": null,
   "id": "e40790ba-6222-4a7c-9309-7b16f3e3bfe9",
   "metadata": {},
   "outputs": [],
   "source": [
    "#Stock Reduction \n",
    "\n",
    "print(\"Welcome to stock calculation\")\n",
    "\n",
    "print(\"You have 50 units of stock for Laptop\")\n",
    "\n",
    "stock = 50\n",
    "\n",
    "stockout = False\n",
    "\n",
    "day = range(1,10)\n",
    "\n",
    "while not stockout:\n",
    "    for i in day:\n",
    "        stock -= 5\n",
    "        print(f\"Remaining stock = {stock}\")\n",
    "\n",
    "        if stock <= 0:\n",
    "            print(\"stock out for laptop\")\n",
    "            stockout = True\n",
    "            break\n",
    "\n",
    "\n"
   ]
  },
  {
   "cell_type": "code",
   "execution_count": null,
   "id": "8417e78f-069b-45ed-bda3-9c602906e0c4",
   "metadata": {},
   "outputs": [],
   "source": []
  }
 ],
 "metadata": {
  "kernelspec": {
   "display_name": "anaconda-panel-2023.05-py310",
   "language": "python",
   "name": "conda-env-anaconda-panel-2023.05-py310-py"
  },
  "language_info": {
   "codemirror_mode": {
    "name": "ipython",
    "version": 3
   },
   "file_extension": ".py",
   "mimetype": "text/x-python",
   "name": "python",
   "nbconvert_exporter": "python",
   "pygments_lexer": "ipython3",
   "version": "3.11.5"
  }
 },
 "nbformat": 4,
 "nbformat_minor": 5
}
