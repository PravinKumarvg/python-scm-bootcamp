{
 "cells": [
  {
   "cell_type": "code",
   "execution_count": 5,
   "id": "b19b574c-38dd-4ee6-89f2-50383a3512b9",
   "metadata": {},
   "outputs": [
    {
     "name": "stdin",
     "output_type": "stream",
     "text": [
      "What is the product your are going to check Inventory? Mobile\n",
      " 20\n",
      "What is your current safetystock value ? 400\n"
     ]
    },
    {
     "name": "stdout",
     "output_type": "stream",
     "text": [
      "Reorder quantity is needed\n"
     ]
    }
   ],
   "source": [
    "#Reorder Point Check\n",
    "import statistics\n",
    "product = input(\"What is the product your are going to check Inventory?\")\n",
    "Leadtime = int(input())\n",
    "safetystock = int(input(\"What is your current safetystock value ?\"))\n",
    "\n",
    "Demand = [20,30,40,50]\n",
    "\n",
    "\n",
    "Average_demand = statistics.mean(Demand)\n",
    "Reorderpoint = (Average_demand * Leadtime) + safetyStock\n",
    "\n",
    "#Reorderpoint check\n",
    "\n",
    "if safetystock < Reorderpoint:\n",
    "    print(\"Reorder quantity is needed\")\n",
    "\n",
    "else:\n",
    "    print(\"Reoder quantity is not needed\")"
   ]
  },
  {
   "cell_type": "code",
   "execution_count": null,
   "id": "902caae6-a373-41c7-86c0-b4cc532fbe2c",
   "metadata": {},
   "outputs": [],
   "source": []
  }
 ],
 "metadata": {
  "kernelspec": {
   "display_name": "anaconda-panel-2023.05-py310",
   "language": "python",
   "name": "conda-env-anaconda-panel-2023.05-py310-py"
  },
  "language_info": {
   "codemirror_mode": {
    "name": "ipython",
    "version": 3
   },
   "file_extension": ".py",
   "mimetype": "text/x-python",
   "name": "python",
   "nbconvert_exporter": "python",
   "pygments_lexer": "ipython3",
   "version": "3.11.5"
  }
 },
 "nbformat": 4,
 "nbformat_minor": 5
}
