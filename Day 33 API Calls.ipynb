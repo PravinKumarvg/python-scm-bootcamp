{
 "cells": [
  {
   "cell_type": "code",
   "execution_count": 2,
   "id": "28f25c25-85fb-4eb6-968c-9708081aea2a",
   "metadata": {},
   "outputs": [
    {
     "name": "stdout",
     "output_type": "stream",
     "text": [
      "<Response [200]>\n"
     ]
    }
   ],
   "source": [
    "#API Calls\n",
    "\n",
    "\n",
    "import requests\n",
    "\n",
    "request = requests.get(url = \"http://api.open-notify.org/iss-now.json\")\n",
    "\n",
    "print(request)"
   ]
  },
  {
   "cell_type": "code",
   "execution_count": 8,
   "id": "9945ff67-6ae7-4697-ab90-c38ebb193ebf",
   "metadata": {},
   "outputs": [
    {
     "name": "stdout",
     "output_type": "stream",
     "text": [
      "<Response [200]>\n",
      "API response is good\n",
      "{'message': 'success', 'timestamp': 1760182176, 'iss_position': {'latitude': '-51.6092', 'longitude': '168.8766'}}\n",
      "-51.6092\n",
      "168.8766\n"
     ]
    }
   ],
   "source": [
    "#Checking API status code and print in json format\n",
    "\n",
    "import requests\n",
    "\n",
    "request = requests.get(url = \"http://api.open-notify.org/iss-now.json\")\n",
    "\n",
    "print(request)\n",
    "\n",
    "if request.status_code == 404:\n",
    "    print(\"forbidden error\")\n",
    "elif request.status_code == 402:\n",
    "    print(\"Website does not exist\")\n",
    "elif request.status_code == 200:\n",
    "    print(\"API response is good\")\n",
    "\n",
    "\n",
    "data = request.json()\n",
    "\n",
    "latitude = request.json()[\"iss_position\"][\"latitude\"]\n",
    "longitude = request.json()[\"iss_position\"][\"longitude\"]\n",
    "\n",
    "print(data)\n",
    "print(latitude)\n",
    "print(longitude)\n"
   ]
  },
  {
   "cell_type": "code",
   "execution_count": null,
   "id": "bd9ee848-5796-44ee-937b-f9fa793cafa5",
   "metadata": {},
   "outputs": [],
   "source": [
    "from tkinter import *\n",
    "import requests\n",
    "\n",
    "\n",
    "def get_quote():\n",
    "    request = requests.get(url = \"https://api.kanye.rest\")\n",
    "    request.raise_for_status()\n",
    "    data = request.json()\n",
    "    quote = data[\"quote\"]\n",
    "    canvas.itemconfig(quote_text, text = quote)\n",
    "\n",
    "\n",
    "window = Tk()\n",
    "window.title(\"Kane says....\")\n",
    "window.config(padx = 50, pady = 50)\n",
    "\n",
    "canvas = Canvas(width = 300, height = 414)\n",
    "background_img = PhotoImage(file = \"background.img\")\n",
    "canvas.create_image(150, 207, image = background_img)\n",
    "quote_text = canvas.create.create_text(150, 207, text = \"Kane Quote Goes HERE\", width = 250)\n",
    "canvas.grid(row = 0, column = 0)\n",
    "                                                                                                     \n",
    "                                                                                                     \n",
    "kanye_img = PhotoImage(file = \"Kanye.png\")\n",
    "kanye_button= Button(image = kanye_img, highlighthickness = 0, command = get_quote)\n",
    "kanye_button.grid(row = 1, column = 0)\n",
    "                                             "
   ]
  },
  {
   "cell_type": "code",
   "execution_count": 20,
   "id": "97023f69-a088-4c69-8149-6d87d8779a86",
   "metadata": {},
   "outputs": [
    {
     "name": "stdout",
     "output_type": "stream",
     "text": [
      "{'results': {'sunrise': '11:02:04 AM', 'sunset': '10:23:12 PM', 'solar_noon': '4:42:38 PM', 'day_length': '11:21:08', 'civil_twilight_begin': '10:36:02 AM', 'civil_twilight_end': '10:49:14 PM', 'nautical_twilight_begin': '10:04:21 AM', 'nautical_twilight_end': '11:20:55 PM', 'astronomical_twilight_begin': '9:32:37 AM', 'astronomical_twilight_end': '11:52:39 PM'}, 'status': 'OK', 'tzid': 'UTC'}\n",
      "11:02:04 AM\n",
      "10:23:12 PM\n",
      "11\n",
      "2025-10-11 13:02:42.788390\n"
     ]
    }
   ],
   "source": [
    "#Passing parameters to API call\n",
    "\n",
    "import requests\n",
    "import datetime as dt\n",
    "\n",
    "MY_LAT = 40.7128\n",
    "MY_LONG = -74.0060\n",
    "\n",
    "parameters = {\n",
    "    \"lat\": MY_LAT,\n",
    "    \"lng\": MY_LONG\n",
    "}\n",
    "\n",
    "request = requests.get(url = \"https://api.sunrise-sunset.org/json\", params = parameters)\n",
    "request.raise_for_status()\n",
    "data = request.json()\n",
    "sunrise = data[\"results\"][\"sunrise\"]\n",
    "sunset = data[\"results\"][\"sunset\"]\n",
    "print(data)\n",
    "print(sunrise)\n",
    "print(sunset)\n",
    "\n",
    "#try to split using split function\n",
    "print(sunrise.split(\":\")[0])\n",
    "\n",
    "timenow = dt.datetime.now()\n",
    "print(timenow)\n",
    "\n"
   ]
  },
  {
   "cell_type": "code",
   "execution_count": null,
   "id": "54ea056a-57cb-4909-a9d8-a9c74111561c",
   "metadata": {},
   "outputs": [],
   "source": [
    "#isis project \n",
    "\n",
    "import requests\n",
    "import datetime as dt\n",
    "\n",
    "MY_LAT = 51.507351\n",
    "MY_LONG = -0.127758\n",
    "\n",
    "my_email = \"pravinwalker@gmail.com\"\n",
    "password = \"xrnx kuig mxsd tepp\"\n",
    "\n",
    "def is_iss_overhead():\n",
    "    request = requests.get(url = \"https://api.open-notify.org/iss-now.json\")\n",
    "    request.raise_for_status()\n",
    "    data = request.json()\n",
    "\n",
    "    iss_latitude = float(data[\"iss_position\"][\"latitude\"])\n",
    "    iss_longitude = float(data[\"iss_position\"][\"longitude\"])\n",
    "\n",
    "\n",
    "    if MY_LAT -5 <= iss_latitude <= MY_LAT+5 and MY_LONG -5 <= iss_longitude <= MY_LAT+5:\n",
    "        return true\n",
    "\n",
    "\n",
    "def is_night():\n",
    "    parameters = {\n",
    "    \"lat\": MY_LAT,\n",
    "    \"lng\": MY_LONG\n",
    "}\n",
    "    request = requests.get(url = \"https://api.open-notify.org/iss-now.json\")\n",
    "    request.raise_for_status()\n",
    "    data = request.json()\n",
    "    sunrise = int(data[\"results\"][\"sunrise\"].split(\"T\")[1])\n",
    "    sunset = int(data[\"results\"][\"sunset\"].split(\"T\")[1])\n",
    "\n",
    "\n",
    "    timenow = dt.datetime.now()\n",
    "    print(timenow.hour)\n",
    "\n",
    "\n",
    "    if timenow >= sunset or timenow <= sunrise:\n",
    "        return True\n",
    "\n",
    "while True:\n",
    "    if is_iss_overhead() and is_night():\n",
    "        connection = smtplib.SMTP(\"smtp.gmail.com\")\n",
    "        connection.starttls()\n",
    "        connection.login(user=my_email, password=password)\n",
    "        connection.sendmail(\n",
    "                from_addr=my_email,\n",
    "                to_addrs=row[\"Email\"],  # Send to the person's email\n",
    "                msg=f\"Subject: Look up!\\n\\nThe ISIS is above in your city!\"\n",
    "            )\n",
    "        \n",
    "        "
   ]
  }
 ],
 "metadata": {
  "kernelspec": {
   "display_name": "anaconda-panel-2023.05-py310",
   "language": "python",
   "name": "conda-env-anaconda-panel-2023.05-py310-py"
  },
  "language_info": {
   "codemirror_mode": {
    "name": "ipython",
    "version": 3
   },
   "file_extension": ".py",
   "mimetype": "text/x-python",
   "name": "python",
   "nbconvert_exporter": "python",
   "pygments_lexer": "ipython3",
   "version": "3.11.5"
  }
 },
 "nbformat": 4,
 "nbformat_minor": 5
}
