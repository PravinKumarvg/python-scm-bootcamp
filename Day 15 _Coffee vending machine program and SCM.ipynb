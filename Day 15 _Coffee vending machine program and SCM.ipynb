{
 "cells": [
  {
   "cell_type": "code",
   "execution_count": 7,
   "id": "4fb4297e-4f80-4649-8a6d-d643424abddf",
   "metadata": {},
   "outputs": [
    {
     "name": "stdout",
     "output_type": "stream",
     "text": [
      "What would you like to have ? a Latte B Espresso c Cappucino\n"
     ]
    },
    {
     "name": "stdin",
     "output_type": "stream",
     "text": [
      " \n"
     ]
    },
    {
     "name": "stdout",
     "output_type": "stream",
     "text": [
      "Thank You!\n"
     ]
    }
   ],
   "source": [
    "#Coffee Vending machine program\n",
    "\n",
    "import statistics\n",
    "\n",
    "print(\"What would you like to have ? a Latte B Espresso c Cappucino\")\n",
    "milk = 650 \n",
    "sugar = 60 \n",
    "Water = 400 \n",
    "coffee = 90\n",
    "\n",
    "user_input = input()\n",
    "\n",
    "if user_input == 'Latte':\n",
    "    if milk >= 150 or coffee >= 24 or Water >=  200:\n",
    "        price_input = int(input(\"Enter come coins($20)\"))\n",
    "        if price_input == 20:\n",
    "            print(\"Enjoy your latte\")\n",
    "            milk -= 150\n",
    "            coffee -= 24\n",
    "            Water -= 200\n",
    "        else:\n",
    "            print(\"Input Enough coins\")\n",
    "\n",
    "    else:\n",
    "        print(\"Not enough raw materials found. Thank You\")\n",
    "        exit()\n",
    "\n",
    "elif user_input == 'Espresso':\n",
    "    if coffee >= 18 and Water >=  50:\n",
    "        price_input = int(input(\"Enter come coins($18)\"))\n",
    "        if price_input == 18:\n",
    "            print(\"Enjoy your latte\")\n",
    "            coffee -= 18\n",
    "            Water -= 50\n",
    "        else:\n",
    "            print(\"Input Enough coins\")\n",
    "\n",
    "    else:\n",
    "        print(\"Not enough raw materials found. Thank You\")\n",
    "        exit()\n",
    "\n",
    "elif user_input == 'Cappucino':\n",
    "    if coffee >= 24 and Water >=  250 and milk >= 100:\n",
    "        price_input = int(input(\"Enter come coins($25)\"))\n",
    "        if price_input == 25:\n",
    "            print(\"Enjoy your latte\")\n",
    "            coffee -= 24\n",
    "            Water -= 250\n",
    "            milk -= 100\n",
    "        else:\n",
    "            print(\"Input Enough coins\")\n",
    "\n",
    "    else:\n",
    "        print(\"Not enough raw materials found. Thank You\")\n",
    "        exit()\n",
    "\n",
    "\n",
    "else:\n",
    "    print(\"Thank You!\")\n",
    "        \n",
    "        \n",
    "        \n",
    "\n"
   ]
  },
  {
   "cell_type": "code",
   "execution_count": 14,
   "id": "c8012dd2-c965-4918-9da9-b7d6181eccf2",
   "metadata": {},
   "outputs": [
    {
     "name": "stdout",
     "output_type": "stream",
     "text": [
      "+----+--------+--------------+\n",
      "| ID |  Name  |  Department  |\n",
      "+----+--------+--------------+\n",
      "| 1  | Pravin | Supply Chain |\n",
      "| 2  | Macha  |  Analytics   |\n",
      "+----+--------+--------------+\n"
     ]
    }
   ],
   "source": [
    "#Pretty Table to import data into table in Python\n",
    "\n",
    "from prettytable import PrettyTable\n",
    "\n",
    "# Create table\n",
    "table = PrettyTable()\n",
    "table.field_names = [\"ID\", \"Name\", \"Department\"]\n",
    "\n",
    "# Add rows\n",
    "table.add_row([1, \"Pravin\", \"Supply Chain\"])\n",
    "table.add_row([2, \"Macha\", \"Analytics\"])\n",
    "\n",
    "print(table)"
   ]
  },
  {
   "cell_type": "code",
   "execution_count": 20,
   "id": "316bac7e-344d-46d5-8383-2c8df040f00e",
   "metadata": {},
   "outputs": [
    {
     "name": "stdin",
     "output_type": "stream",
     "text": [
      "Enter the product name: Laptop\n",
      "Enter the sales input: 200,300,500,600\n"
     ]
    },
    {
     "data": {
      "text/plain": [
       "(400.0, 182.57418583505537, 45.64354645876384)"
      ]
     },
     "execution_count": 20,
     "metadata": {},
     "output_type": "execute_result"
    }
   ],
   "source": [
    "#Calculate COV Function\n",
    "\n",
    "import statistics\n",
    "def calculate_cov(sales, product_name):\n",
    "\n",
    "    mean_value = statistics.mean(sales)\n",
    "    stddev_value = statistics.stdev(sales)\n",
    "    cov_value = (stddev_value/mean_value) *100\n",
    "    return mean_value, stddev_value, cov_value\n",
    "\n",
    "product = input(\"Enter the product name:\")\n",
    "sales_num = input(\"Enter the sales input:\")\n",
    "sal = [float(x.strip()) for x in sales_num.split(',')]\n",
    "\n",
    "\n",
    "calculate_cov(sal, product)\n",
    "\n",
    "\n",
    "    \n",
    "\n",
    "    \n",
    "    "
   ]
  },
  {
   "cell_type": "code",
   "execution_count": null,
   "id": "c8174894-86e7-4c39-acf7-620d4c670a7e",
   "metadata": {},
   "outputs": [],
   "source": []
  }
 ],
 "metadata": {
  "kernelspec": {
   "display_name": "anaconda-panel-2023.05-py310",
   "language": "python",
   "name": "conda-env-anaconda-panel-2023.05-py310-py"
  },
  "language_info": {
   "codemirror_mode": {
    "name": "ipython",
    "version": 3
   },
   "file_extension": ".py",
   "mimetype": "text/x-python",
   "name": "python",
   "nbconvert_exporter": "python",
   "pygments_lexer": "ipython3",
   "version": "3.11.5"
  }
 },
 "nbformat": 4,
 "nbformat_minor": 5
}
