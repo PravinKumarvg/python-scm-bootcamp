{
 "cells": [
  {
   "cell_type": "code",
   "execution_count": 20,
   "id": "987690e8-4c75-46f4-aa13-43942ad7755a",
   "metadata": {},
   "outputs": [
    {
     "name": "stdin",
     "output_type": "stream",
     "text": [
      "Sir/madam what is yooru current stock for PC ? 20000\n",
      "would like to add any buffer safety stock ? 400\n"
     ]
    },
    {
     "name": "stdout",
     "output_type": "stream",
     "text": [
      "The additional demand would be because of SS is:400\n",
      "The total Inventory after SS would be: 20400\n"
     ]
    }
   ],
   "source": [
    "#Adding SS to Inventory\n",
    "Stock = int(input(\"Sir/madam what is yooru current stock for PC ?\"))\n",
    "SS = int(input(\"would like to add any buffer safety stock ?\"))\n",
    "\n",
    "\n",
    "\n",
    "TotalInventoryProjection = Stock+SS\n",
    "\n",
    "print(f\"The additional demand would be because of SS is:{SS}\")\n",
    "print(f\"The total Inventory after SS would be: {TotalInventoryProjection}\")\n"
   ]
  },
  {
   "cell_type": "code",
   "execution_count": 14,
   "id": "38810195-2bd1-4952-9770-8f8f7345eb97",
   "metadata": {},
   "outputs": [
    {
     "name": "stdout",
     "output_type": "stream",
     "text": [
      "Welcome to stock value calculator\n"
     ]
    },
    {
     "name": "stdin",
     "output_type": "stream",
     "text": [
      "what product would you like to buy ? Laptop\n",
      "What is the current stock you are holding at  warehouse/DC? 200\n",
      "What is the price per unit ? 40000\n"
     ]
    },
    {
     "name": "stdout",
     "output_type": "stream",
     "text": [
      "You current stock value is:8000000\n"
     ]
    }
   ],
   "source": [
    "#Stock value calculator\n",
    "print(\"Welcome to stock value calculator\")\n",
    "product = input(\"which product would you like to check ?\")\n",
    "stock = int(input(\"What is the current stock you are holding at  warehouse/DC?\"))\n",
    "price = int(input(\"What is the price per unit ?\"))\n",
    "\n",
    "Stock_value = stock * price\n",
    "\n",
    "print(f\"You current stock value is:{Stock_value}\")\n"
   ]
  },
  {
   "cell_type": "code",
   "execution_count": 19,
   "id": "481d25ed-ddf5-4701-abac-e89b053568ac",
   "metadata": {},
   "outputs": [
    {
     "name": "stdout",
     "output_type": "stream",
     "text": [
      "Welcome to stock value calculator\n"
     ]
    },
    {
     "name": "stdin",
     "output_type": "stream",
     "text": [
      "what product would you like to buy ? Laptop\n",
      "What is the current stock you are holding at  warehouse/DC? 100\n",
      "What is the price per unit ? 30000\n"
     ]
    },
    {
     "name": "stdout",
     "output_type": "stream",
     "text": [
      "Fastmoving\n",
      "Inventory holding cost is high\n",
      "You current stock value is:3000000\n"
     ]
    }
   ],
   "source": [
    "#check stock level type\n",
    "\n",
    "print(\"Welcome to Inventory value calculator\")\n",
    "product = input(\"which product would you like to check Inventory for ?\")\n",
    "stock = int(input(\"What is the current stock you are holding at  warehouse/DC?\"))\n",
    "price = int(input(\"What is the price per unit ?\"))\n",
    "\n",
    "Stock_value = stock * price\n",
    "\n",
    "if stock >= 0 and stock < 200:\n",
    "    print(\"Fastmoving\")\n",
    "\n",
    "    if Stock_value > 400000:\n",
    "        print(\"Inventory holding cost is high\")\n",
    "\n",
    "    else:\n",
    "        print(\"Inventory holding cost is not high\")\n",
    "\n",
    "\n",
    "elif stock >= 200 and stock <=500:\n",
    "    print(\"Moderate\")\n",
    "\n",
    "else:\n",
    "    print(\"Slowmoving\")\n",
    "    \n",
    "\n",
    "\n",
    "\n",
    "print(f\"You current stock value is:{Stock_value}\")"
   ]
  },
  {
   "cell_type": "code",
   "execution_count": null,
   "id": "641c8448-b543-402e-9d70-9670024ead8a",
   "metadata": {},
   "outputs": [],
   "source": []
  }
 ],
 "metadata": {
  "kernelspec": {
   "display_name": "anaconda-panel-2023.05-py310",
   "language": "python",
   "name": "conda-env-anaconda-panel-2023.05-py310-py"
  },
  "language_info": {
   "codemirror_mode": {
    "name": "ipython",
    "version": 3
   },
   "file_extension": ".py",
   "mimetype": "text/x-python",
   "name": "python",
   "nbconvert_exporter": "python",
   "pygments_lexer": "ipython3",
   "version": "3.11.5"
  }
 },
 "nbformat": 4,
 "nbformat_minor": 5
}
