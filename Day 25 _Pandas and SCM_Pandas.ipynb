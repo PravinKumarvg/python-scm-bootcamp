{
 "cells": [
  {
   "cell_type": "code",
   "execution_count": 5,
   "id": "1faf254a-86da-4bfb-b6a7-bad77a4c06f0",
   "metadata": {},
   "outputs": [
    {
     "name": "stdout",
     "output_type": "stream",
     "text": [
      "['day', 'temp', 'condition']\n",
      "['Monday', '12', 'Sunny']\n",
      "['Tuesday', '14', 'Rain']\n",
      "['Wednesday', '15', 'Rain']\n",
      "['Thursday', '14', 'Cloudy']\n",
      "['Friday', '21', 'Sunny']\n",
      "['Saturday', '22', 'Sunny']\n",
      "['Sunday', '24', 'Sunny']\n"
     ]
    }
   ],
   "source": [
    "#using csv function to import data from csv - csv function will import data in list format which will be easy to work with\n",
    "\n",
    "import csv\n",
    "\n",
    "with open(\"weather_data.csv\", \"r\") as data_file:\n",
    "    data = csv.reader(data_file)\n",
    "    for row in data:\n",
    "        print(row)\n",
    "    "
   ]
  },
  {
   "cell_type": "code",
   "execution_count": 7,
   "id": "40a858ad-b61b-43ae-811c-a8ce812252ab",
   "metadata": {},
   "outputs": [
    {
     "name": "stdout",
     "output_type": "stream",
     "text": [
      "[12, 14, 15, 14, 21, 22, 24]\n"
     ]
    }
   ],
   "source": [
    "import csv\n",
    "temperature = []\n",
    "with open(\"weather_data.csv\", \"r\") as data_file:\n",
    "    data = csv.reader(data_file)\n",
    "    next(data) #To skip the header row [day, temp, condition]\n",
    "    for row in data:\n",
    "        temperature.append(int(row[1]))\n",
    "\n",
    "print(temperature)"
   ]
  },
  {
   "cell_type": "code",
   "execution_count": 8,
   "id": "f6dca3f1-9f26-4fcf-87b1-9984dde5c5a7",
   "metadata": {},
   "outputs": [
    {
     "name": "stdout",
     "output_type": "stream",
     "text": [
      "0    12\n",
      "1    14\n",
      "2    15\n",
      "3    14\n",
      "4    21\n",
      "5    22\n",
      "6    24\n",
      "Name: temp, dtype: int64\n"
     ]
    }
   ],
   "source": [
    "#Pandas\n",
    "\n",
    "import pandas\n",
    "\n",
    "data = pandas.read_csv(\"weather_data.csv\")\n",
    "print(data[\"temp\"]) #using pandas you can directly call the column name and print values."
   ]
  },
  {
   "cell_type": "code",
   "execution_count": 23,
   "id": "5d4e1d9d-de22-4026-b0cd-5679e16779b7",
   "metadata": {},
   "outputs": [
    {
     "name": "stdout",
     "output_type": "stream",
     "text": [
      "{'day': {0: 'Monday', 1: 'Tuesday', 2: 'Wednesday', 3: 'Thursday', 4: 'Friday', 5: 'Saturday', 6: 'Sunday'}, 'temp': {0: 12, 1: 14, 2: 15, 3: 14, 4: 21, 5: 22, 6: 24}, 'condition': {0: 'Sunny', 1: 'Rain', 2: 'Rain', 3: 'Cloudy', 4: 'Sunny', 5: 'Sunny', 6: 'Sunny'}}\n",
      "[12, 14, 15, 14, 21, 22, 24]\n",
      "7\n",
      "17.428571428571427\n",
      "24\n",
      "      day  temp condition\n",
      "0  Monday    12     Sunny\n",
      "      day  temp condition\n",
      "6  Sunday    24     Sunny\n",
      "0    Sunny\n",
      "Name: condition, dtype: object\n",
      "53.6\n"
     ]
    }
   ],
   "source": [
    "#In Pandas we can convert the data to Dictionary\n",
    "import statistics\n",
    "import pandas\n",
    "\n",
    "data = pandas.read_csv(\"weather_data.csv\")\n",
    "data_dict = data.to_dict() #To convert to dictionary\n",
    "\n",
    "temp_list = data[\"temp\"].to_list()\n",
    "print(data_dict)\n",
    "print(temp_list)\n",
    "print(len(temp_list))\n",
    "print(statistics.mean(temp_list))\n",
    "print(max(temp_list))\n",
    "\n",
    "print(data[data.day ==\"Monday\"]) #To return value from a row\n",
    "print(data[data.temp == data.temp.max()])\n",
    "\n",
    "monday = data[data.day ==\"Monday\"]\n",
    "print(monday.condition)\n",
    "\n",
    "monday_temp = monday.temp[0]\n",
    "monday_temp_f = monday_temp * 9/5 + 32\n",
    "print(monday_temp_f)"
   ]
  },
  {
   "cell_type": "code",
   "execution_count": 25,
   "id": "f286bd21-dfa0-4d2b-a1bf-319744e5503b",
   "metadata": {},
   "outputs": [],
   "source": [
    "#To create dataframe from scratch\n",
    "\n",
    "import pandas\n",
    "\n",
    "data_dict = { \"students\":[\"Amy\", \"Pravin\", \"Nivetha\"],\n",
    "              \" scores\":[50, 80, 90]\n",
    "            }\n",
    "\n",
    "data = pandas.DataFrame(data_dict)\n",
    "data.to_csv(\"newstudent.csv\") #We created a dataframe and writing it to a csv file\n"
   ]
  },
  {
   "cell_type": "code",
   "execution_count": 39,
   "id": "644b6d2f-20e6-4395-a89a-6f4173201bd8",
   "metadata": {},
   "outputs": [
    {
     "name": "stdout",
     "output_type": "stream",
     "text": [
      "2473\n",
      "392\n",
      "103\n"
     ]
    }
   ],
   "source": [
    "#squirrel data analysis\n",
    "\n",
    "import pandas\n",
    "\n",
    "data = pandas.read_csv(\"2018_Central_Park_Squirrel_Census_-_Squirrel_Data.csv\")\n",
    "Grey = len(data[data[\"Primary Fur Color\"] == \"Gray\"])\n",
    "Red = len(data[data[\"Primary Fur Color\"] == \"Cinnamon\"])\n",
    "Black = len(data[data[\"Primary Fur Color\"] == \"Black\"])\n",
    "print(Grey)\n",
    "print(Red)\n",
    "print(Black)\n",
    "\n",
    "#Now we are going to create a new CSV to store the count as per the color\n",
    "\n",
    "\n",
    "data_dict_sq = {\n",
    "    \"squirrel_color\" : [\"Grey\" , \"Cinnamon\" , \"Black\"],\n",
    "    \"Count\" : [Grey, Red, Black]\n",
    "}\n",
    "\n",
    "squirrel_color = pandas.DataFrame(data_dict_sq)\n",
    "squirrel_color.to_csv(\"squirrel_color_count.csv\")"
   ]
  },
  {
   "cell_type": "code",
   "execution_count": 47,
   "id": "1fdc5f7a-e0db-4d64-9fc6-5c59b7da73c0",
   "metadata": {},
   "outputs": [
    {
     "name": "stdout",
     "output_type": "stream",
     "text": [
      "<_csv.reader object at 0x74981b3cfa00>\n",
      "Laptop | Stock : 50| price_per_unit : 30000\n",
      "Mobile | Stock : 100| price_per_unit : 20000\n",
      "Milk | Stock : 10| price_per_unit : 50\n",
      "Printer | Stock : 25| price_per_unit : 15000\n"
     ]
    }
   ],
   "source": [
    "#Read from CSV\n",
    "\n",
    "import csv\n",
    "\n",
    "with open(\"Product1.csv\", \"r\") as data_file:\n",
    "    data = csv.reader(data_file)\n",
    "    print(data)\n",
    "    next(data)\n",
    "    for row in data:\n",
    "        print(f\"{row[0]} | Stock : {row[1]}| price_per_unit : {row[2]}\")"
   ]
  },
  {
   "cell_type": "code",
   "execution_count": null,
   "id": "a030e8e6-263e-41e0-bad2-22987c5e3bc5",
   "metadata": {},
   "outputs": [],
   "source": []
  }
 ],
 "metadata": {
  "kernelspec": {
   "display_name": "anaconda-panel-2023.05-py310",
   "language": "python",
   "name": "conda-env-anaconda-panel-2023.05-py310-py"
  },
  "language_info": {
   "codemirror_mode": {
    "name": "ipython",
    "version": 3
   },
   "file_extension": ".py",
   "mimetype": "text/x-python",
   "name": "python",
   "nbconvert_exporter": "python",
   "pygments_lexer": "ipython3",
   "version": "3.11.5"
  }
 },
 "nbformat": 4,
 "nbformat_minor": 5
}
