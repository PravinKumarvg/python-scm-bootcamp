{
 "cells": [
  {
   "cell_type": "code",
   "execution_count": 16,
   "id": "2add9bfa-185c-44af-aafd-608b6b365abd",
   "metadata": {},
   "outputs": [
    {
     "name": "stdout",
     "output_type": "stream",
     "text": [
      "Final stock left = 0\n"
     ]
    }
   ],
   "source": [
    "#Debug below SCM Final stock calculator\n",
    "\n",
    "#stock = 100\n",
    "#daily_sales = [10, 20, 15, 25, 30]\n",
    "\n",
    "#for sales in daily_sales:\n",
    "    #stock = stock - sales\n",
    "    #stock = stock - sales   # ❌ wrong (double subtraction)\n",
    "\n",
    "#print(f\"Final stock left = {stock}\")\n",
    "\n",
    "\n",
    "#Corrected version \n",
    "import statistics\n",
    "stock = 100\n",
    "daily_sales = [10, 20, 15, 25, 30]\n",
    "Totalsales = sum(daily_sales)\n",
    "\n",
    "remainingstock = stock - Totalsales\n",
    "\n",
    "print(f\"Final stock left = {remainingstock}\")"
   ]
  },
  {
   "cell_type": "code",
   "execution_count": 20,
   "id": "f34a29cd-3618-42d0-92fb-0e83aacc3b25",
   "metadata": {},
   "outputs": [
    {
     "name": "stdin",
     "output_type": "stream",
     "text": [
      "Enter the Forecast Value: 400\n",
      "Enter the actual value: 300\n"
     ]
    },
    {
     "name": "stdout",
     "output_type": "stream",
     "text": [
      "Forecast higher than Actual\n"
     ]
    }
   ],
   "source": [
    "#Forecast Accuracy Calculator\n",
    "\n",
    "def compare_forecast(forecast, actual):\n",
    "\n",
    "    if forecast == actual:\n",
    "        print(\"Forecast is accurate\")\n",
    "\n",
    "    elif forecast > actual:\n",
    "        print(\"Forecast higher than Actual\")\n",
    "\n",
    "    elif forecast < actual:\n",
    "        print(\"Forecast is less then Actual\")\n",
    "\n",
    "forecast_input = int(input(\"Enter the Forecast Value:\"))\n",
    "actual_input = int(input(\"Enter the actual value:\"))\n",
    "\n",
    "compare_forecast(forecast_input, actual_input)\n",
    "    "
   ]
  },
  {
   "cell_type": "code",
   "execution_count": 25,
   "id": "4de22c88-6134-4899-8926-8446053b3068",
   "metadata": {},
   "outputs": [
    {
     "name": "stdin",
     "output_type": "stream",
     "text": [
      "Enter the forecast 200,300,400,500\n",
      "Enter the Actual 300,400,500,800\n"
     ]
    },
    {
     "name": "stdout",
     "output_type": "stream",
     "text": [
      "Poor\n"
     ]
    }
   ],
   "source": [
    "#Forecast Accuracy calculator and classification \n",
    "\n",
    "\n",
    "def foreacast_accuracy(forecast, Actual):\n",
    "\n",
    "    errors = []\n",
    "    for f,a in zip(forecast,Actual):\n",
    "        MAPE = abs(f-a)/a*100\n",
    "\n",
    "    if MAPE < 10:\n",
    "        print(\"Excellent\")\n",
    "\n",
    "    elif MAPE <20:\n",
    "        print(\"Good\")\n",
    "\n",
    "    else:\n",
    "        print(\"Poor\")\n",
    "\n",
    "forecast_input = input(\"Enter the forecast\")\n",
    "Actual_input = input(\"Enter the Actual\")\n",
    "\n",
    "\n",
    "forecast_list = [float(x.strip()) for x in forecast_input.split(',')]\n",
    "Actual_list = [float(x.strip()) for x in Actual_input.split(',')]\n",
    "\n",
    "\n",
    "foreacast_accuracy(forecast_list, Actual_list)\n",
    "    "
   ]
  },
  {
   "cell_type": "code",
   "execution_count": null,
   "id": "b7bc4fc1-413d-4813-a31e-ee32c542e834",
   "metadata": {},
   "outputs": [],
   "source": []
  }
 ],
 "metadata": {
  "kernelspec": {
   "display_name": "anaconda-panel-2023.05-py310",
   "language": "python",
   "name": "conda-env-anaconda-panel-2023.05-py310-py"
  },
  "language_info": {
   "codemirror_mode": {
    "name": "ipython",
    "version": 3
   },
   "file_extension": ".py",
   "mimetype": "text/x-python",
   "name": "python",
   "nbconvert_exporter": "python",
   "pygments_lexer": "ipython3",
   "version": "3.11.5"
  }
 },
 "nbformat": 4,
 "nbformat_minor": 5
}
