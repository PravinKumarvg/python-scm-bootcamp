{
 "cells": [
  {
   "cell_type": "code",
   "execution_count": 1,
   "id": "7e504bc2-909c-4721-8621-6c78d7db7fa5",
   "metadata": {},
   "outputs": [
    {
     "name": "stdout",
     "output_type": "stream",
     "text": [
      "[2, 3, 4]\n"
     ]
    }
   ],
   "source": [
    "#List Comprehension\n",
    "\n",
    "numbers = [1,2,3]\n",
    "new_list = []\n",
    "\n",
    "for n in numbers:\n",
    "    add = n+1\n",
    "    new_list.append(add)\n",
    "\n",
    "print(new_list)"
   ]
  },
  {
   "cell_type": "code",
   "execution_count": 5,
   "id": "2e7adb93-920e-4c12-b30c-5990efdcbe1c",
   "metadata": {},
   "outputs": [
    {
     "name": "stdout",
     "output_type": "stream",
     "text": [
      "[2, 3, 4]\n",
      "['A', 'n', 'g', 'e', 'l', 'a']\n"
     ]
    }
   ],
   "source": [
    "#Using list comprehension we can reduce the number of lines and create using single line\n",
    "\n",
    "numbers = [1,2,3]\n",
    "new_list = [n+1 for n in numbers]\n",
    "print(new_list)\n",
    "\n",
    "name = \"Angela\"\n",
    "\n",
    "letterlist = [letter for letter in name]\n",
    "print(letterlist)"
   ]
  },
  {
   "cell_type": "code",
   "execution_count": 11,
   "id": "585efb31-ac15-4405-a32f-bc34624a1780",
   "metadata": {},
   "outputs": [
    {
     "name": "stdout",
     "output_type": "stream",
     "text": [
      "[1, 2, 3, 4]\n",
      "[2, 4, 6, 8]\n"
     ]
    }
   ],
   "source": [
    "#Using Range\n",
    "numlist= []\n",
    "\n",
    "for num in range(1,5):\n",
    "    numlist.append(num)\n",
    "\n",
    "print(numlist)\n",
    "\n",
    "newlist = [n*2 for n in numlist]\n",
    "print(newlist)"
   ]
  },
  {
   "cell_type": "code",
   "execution_count": 20,
   "id": "d50ee19e-5d31-4943-bd66-3d13e744af45",
   "metadata": {},
   "outputs": [
    {
     "name": "stdout",
     "output_type": "stream",
     "text": [
      "[0, 32, 8, 2, 8, 64, 42]\n"
     ]
    }
   ],
   "source": [
    "#List comprehension \n",
    "\n",
    "list_of_strings = ['9', '0', '32', '8', '2', '8', '64', '29', '42', '99']\n",
    "numbers = [int(num) for num in list_of_strings]\n",
    "result = [n for n in numbers if n%2 ==0]\n",
    "print(result)"
   ]
  },
  {
   "cell_type": "code",
   "execution_count": 27,
   "id": "973bd40a-0269-4592-b16f-ee634b49b100",
   "metadata": {},
   "outputs": [
    {
     "name": "stdout",
     "output_type": "stream",
     "text": [
      "{'Alex': 43, 'Pravin': 33, 'Satish': 45, 'Vishanth': 39}\n",
      "{'Alex': 43, 'Satish': 45}\n"
     ]
    }
   ],
   "source": [
    "#Dictionary Comprehension\n",
    "\n",
    "import random\n",
    "\n",
    "name = [\"Alex\", \"Pravin\", \"Satish\", \"Vishanth\"]\n",
    "\n",
    "students_score = {student:random.randint(30,60) for student in name}\n",
    "\n",
    "print(students_score)\n",
    "\n",
    "passedstudents = {student:score for student, score in students_score.items() if score > 40}\n",
    "print(passedstudents)\n",
    "\n"
   ]
  },
  {
   "cell_type": "code",
   "execution_count": 39,
   "id": "b22eb8f3-c286-423a-bab1-ca33ec6163ee",
   "metadata": {},
   "outputs": [
    {
     "name": "stdout",
     "output_type": "stream",
     "text": [
      "  Student  score\n",
      "0  Angela     20\n",
      "1   James     60\n",
      "2   Lilly     80\n",
      "Student    Angela\n",
      "score          20\n",
      "Name: 0, dtype: object\n",
      "20\n",
      "Student    James\n",
      "score         60\n",
      "Name: 1, dtype: object\n",
      "Student    Lilly\n",
      "score         80\n",
      "Name: 2, dtype: object\n"
     ]
    }
   ],
   "source": [
    "#Looping through using pandas\n",
    "import pandas\n",
    "\n",
    "Student_dict = {\n",
    "    \"Student\": [\"Angela\", \"James\", \"Lilly\"],\n",
    "    \"score\":[20,60,80]\n",
    "}\n",
    "\n",
    "student_data = pandas.DataFrame(Student_dict)\n",
    "print(student_data)\n",
    "\n",
    "#Pandas has inbuilt row, index to iter through Pandas\n",
    "for (index, row) in student_data.iterrows():\n",
    "    print(row)\n",
    "\n",
    "    if row.Student == \"Angela\":\n",
    "        print(row.score)\n",
    "\n",
    "{newkey:newvalue for (index, row) in df.iterrows()}\n"
   ]
  },
  {
   "cell_type": "code",
   "execution_count": 53,
   "id": "b806b353-0cd9-42e5-8faa-25e0dba3ee79",
   "metadata": {},
   "outputs": [],
   "source": [
    "#SCM Low stock report\n",
    "\n",
    "import csv\n",
    "import pandas\n",
    "\n",
    "lowstock = []\n",
    "with open(\"Product1.csv\", \"r\") as data_file:\n",
    "    data = csv.reader(data_file)\n",
    "    next(data)\n",
    "    for row in data:\n",
    "        if int(row[1]) < 50:\n",
    "            lowstock.append(row)\n",
    "\n",
    "lows =pandas.DataFrame(lowstock)\n",
    "lows.to_csv(\"Lowstock.csv\")\n",
    "\n",
    "#lowstock.to_csv(\"Lowstock.csv\")\n"
   ]
  },
  {
   "cell_type": "code",
   "execution_count": null,
   "id": "7458e2f2-9d25-48a4-a4aa-60430854562e",
   "metadata": {},
   "outputs": [],
   "source": []
  }
 ],
 "metadata": {
  "kernelspec": {
   "display_name": "anaconda-panel-2023.05-py310",
   "language": "python",
   "name": "conda-env-anaconda-panel-2023.05-py310-py"
  },
  "language_info": {
   "codemirror_mode": {
    "name": "ipython",
    "version": 3
   },
   "file_extension": ".py",
   "mimetype": "text/x-python",
   "name": "python",
   "nbconvert_exporter": "python",
   "pygments_lexer": "ipython3",
   "version": "3.11.5"
  }
 },
 "nbformat": 4,
 "nbformat_minor": 5
}
