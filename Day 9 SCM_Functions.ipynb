{
 "cells": [
  {
   "cell_type": "code",
   "execution_count": 6,
   "id": "283b80ed-3414-4f12-aa74-636981e78580",
   "metadata": {},
   "outputs": [
    {
     "name": "stdout",
     "output_type": "stream",
     "text": [
      "Product Laptop has 40 units\n",
      " safety stock breached for Laptop\n",
      "Product Mobile has 150 units\n",
      " safety stock is ok for Mobile\n",
      "Product Tablet has 20 units\n",
      " safety stock breached for Tablet\n",
      "Product Printer has 80 units\n",
      " safety stock is ok for Printer\n",
      "Total stock across all products 290\n",
      "💰 Total Warehouse value is ₹5300000\n"
     ]
    }
   ],
   "source": [
    "#Safety Stock Automation\n",
    "\n",
    "products = [\n",
    "    {\"name\": \"Laptop\", \"stock\": 40, \"safety_stock\": 50, \"price\": 30000},\n",
    "    {\"name\": \"Mobile\", \"stock\": 150, \"safety_stock\": 100, \"price\": 20000},\n",
    "    {\"name\": \"Tablet\", \"stock\": 20, \"safety_stock\": 30, \"price\": 15000},\n",
    "    {\"name\": \"Printer\", \"stock\": 80, \"safety_stock\": 70, \"price\": 10000}\n",
    "]\n",
    "Totalstock = []\n",
    "Totalprice = []\n",
    "for product in products:\n",
    "    Totalstock.append(product[\"stock\"])\n",
    "    Totalprice.append(product[\"price\"])\n",
    "       \n",
    "    \n",
    "\n",
    "for i in products:\n",
    "    print(f\"Product {i['name']} has {i['stock']} units\") \n",
    "    if i[\"stock\"] < i[\"safety_stock\"]:\n",
    "        print(f\" safety stock breached for {i['name']}\")\n",
    "\n",
    "    else:\n",
    "        print(f\" safety stock is ok for {i['name']}\")\n",
    "\n",
    "\n",
    "Total_stock = sum(Totalstock)\n",
    "Total_price = sum(Totalprice)\n",
    "\n",
    "print(f\"Total stock across all products {Total_stock}\")\n",
    "\n",
    "\n",
    "total_value = sum(product[\"stock\"] * product[\"price\"] for product in products)\n",
    "print(f\"💰 Total Warehouse value is ₹{total_value}\")\n",
    "\n",
    "\n",
    "\n",
    "         \n",
    "    \n",
    "    \n",
    "          \n",
    "    \n",
    "    \n",
    "    \n"
   ]
  },
  {
   "cell_type": "code",
   "execution_count": null,
   "id": "4c79cce6-d694-4afe-9da8-4c7a279d7848",
   "metadata": {},
   "outputs": [],
   "source": []
  },
  {
   "cell_type": "code",
   "execution_count": 11,
   "id": "cf4c306f-2ac5-4113-b8af-4b348d71ef86",
   "metadata": {},
   "outputs": [
    {
     "name": "stdout",
     "output_type": "stream",
     "text": [
      "Laptop Recommended reoder quantity is 250\n",
      "Mobile Recommended reoder quantity is 380\n",
      "Tablet Recommended reoder quantity is 150\n"
     ]
    }
   ],
   "source": [
    "#SCM Reorder Point Calculator \n",
    "\n",
    "def calculate_reorder_qty(daily_sales, lead_time, safety_stock):\n",
    "    return (daily_sales * lead_time) + safety_stock\n",
    "\n",
    "\n",
    "products = [\n",
    "    {\"name\": \"Laptop\", \"daily_sales\": 10, \"lead_time\": 20, \"safety_stock\": 50},\n",
    "    {\"name\": \"Mobile\", \"daily_sales\": 15, \"lead_time\": 22, \"safety_stock\": 50},\n",
    "    {\"name\": \"Tablet\", \"daily_sales\": 8, \"lead_time\": 12, \"safety_stock\": 54}\n",
    "]\n",
    "\n",
    "\n",
    "for product in products:\n",
    "    reorder_qty = calculate_reorder_qty(\n",
    "        product[\"daily_sales\"],\n",
    "        product[\"lead_time\"],\n",
    "        product[\"safety_stock\"]\n",
    "    )\n",
    "\n",
    "    print(f\"{product['name']} Recommended reoder quantity is {reorder_qty}\")\n",
    "\n",
    "    \n",
    "\n",
    "\n",
    "\n"
   ]
  },
  {
   "cell_type": "code",
   "execution_count": null,
   "id": "2c9ffa2c-d5ad-4bff-844d-f4d1385a9001",
   "metadata": {},
   "outputs": [],
   "source": []
  }
 ],
 "metadata": {
  "kernelspec": {
   "display_name": "anaconda-panel-2023.05-py310",
   "language": "python",
   "name": "conda-env-anaconda-panel-2023.05-py310-py"
  },
  "language_info": {
   "codemirror_mode": {
    "name": "ipython",
    "version": 3
   },
   "file_extension": ".py",
   "mimetype": "text/x-python",
   "name": "python",
   "nbconvert_exporter": "python",
   "pygments_lexer": "ipython3",
   "version": "3.11.5"
  }
 },
 "nbformat": 4,
 "nbformat_minor": 5
}
