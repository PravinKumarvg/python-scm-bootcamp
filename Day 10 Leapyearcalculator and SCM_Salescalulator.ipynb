{
 "cells": [
  {
   "cell_type": "code",
   "execution_count": 6,
   "id": "20367085-6de0-469e-b0c1-77c31f5059ef",
   "metadata": {},
   "outputs": [
    {
     "name": "stdout",
     "output_type": "stream",
     "text": [
      "{'Harry': {'name': 'Harry', 'grade': 88}, 'Ron': {'name': 'Ron', 'grade': 78}, 'Hermione': {'name': 'Hermione', 'grade': 95}, 'Draco': {'name': 'Draco', 'grade': 75}, 'Neville': {'name': 'Neville', 'grade': 60}}\n"
     ]
    }
   ],
   "source": [
    "student_scores = {\n",
    "    'Harry': 88,\n",
    "    'Ron': 78,\n",
    "    'Hermione': 95,\n",
    "    'Draco': 75,\n",
    "    'Neville': 60\n",
    "}\n",
    "\n",
    "student_grades = {}\n",
    "for name, value in student_scores.items():\n",
    "    student_grades[name]  = {\n",
    "    \"name\":name,\n",
    "    \"grade\":value\n",
    "    }\n",
    "    \n",
    "\n",
    "\n",
    "print(student_grades)"
   ]
  },
  {
   "cell_type": "code",
   "execution_count": 10,
   "id": "8b4cdd96-0cc5-4c68-83a4-0b011ddc3411",
   "metadata": {},
   "outputs": [
    {
     "name": "stdin",
     "output_type": "stream",
     "text": [
      "Input th year? 2000\n"
     ]
    },
    {
     "data": {
      "text/plain": [
       "True"
      ]
     },
     "execution_count": 10,
     "metadata": {},
     "output_type": "execute_result"
    }
   ],
   "source": [
    "#To find Leap year or not\n",
    "\n",
    "def is_leap_year(year):\n",
    "    \n",
    "    if year % 4 ==0:\n",
    "        return True\n",
    "        \n",
    "    else:\n",
    "        return False\n",
    "  \n",
    "yearinput = int(input(\"Input the year?\"))   \n",
    "is_leap_year(yearinput)\n"
   ]
  },
  {
   "cell_type": "code",
   "execution_count": 13,
   "id": "0ebd5a7c-0a1f-40b6-a120-207b8037dd0c",
   "metadata": {},
   "outputs": [
    {
     "name": "stdout",
     "output_type": "stream",
     "text": [
      "Laptop Day1 sales 20 units\n",
      "Laptop Day2 sales 25 units\n",
      "Laptop Day3 sales 30 units\n",
      "Laptop Day4 sales 28 units\n",
      "Laptop Day5 sales 32 units\n",
      "Laptop Day6 sales 40 units\n",
      "Laptop Day7 sales 35 units\n",
      "Mobile Day1 sales 50 units\n",
      "Mobile Day2 sales 55 units\n",
      "Mobile Day3 sales 53 units\n",
      "Mobile Day4 sales 60 units\n",
      "Mobile Day5 sales 65 units\n",
      "Mobile Day6 sales 70 units\n",
      "Mobile Day7 sales 68 units\n",
      "Tablet Day1 sales 10 units\n",
      "Tablet Day2 sales 12 units\n",
      "Tablet Day3 sales 15 units\n",
      "Tablet Day4 sales 14 units\n",
      "Tablet Day5 sales 13 units\n",
      "Tablet Day6 sales 16 units\n",
      "Tablet Day7 sales 18 units\n",
      "Total sales 729 units\n"
     ]
    }
   ],
   "source": [
    "#Sales Calculator\n",
    "\n",
    "laptop_sales = [20, 25, 30, 28, 32, 40, 35]\n",
    "mobile_sales = [50, 55, 53, 60, 65, 70, 68]\n",
    "tablet_sales = [10, 12, 15, 14, 13, 16, 18]\n",
    "\n",
    "for num, sales in enumerate(laptop_sales, start = 1):\n",
    "    print(f\"Laptop Day{num} sales {sales} units\")\n",
    "\n",
    "for num, sales in enumerate(mobile_sales, start = 1):\n",
    "    print(f\"Mobile Day{num} sales {sales} units\")\n",
    "\n",
    "for num, sales in enumerate(tablet_sales, start = 1):\n",
    "    print(f\"Tablet Day{num} sales {sales} units\")\n",
    "\n",
    "\n",
    "Laptop_sales_Total = sum(laptop_sales)\n",
    "mobile_sales_Total = sum(mobile_sales)\n",
    "tablet_sales_Total = sum(tablet_sales)\n",
    "\n",
    "Totalsales = Laptop_sales_Total + mobile_sales_Total + tablet_sales_Total\n",
    "\n",
    "\n",
    "print(f\"Total sales {Totalsales} units\")\n",
    "    \n",
    "    "
   ]
  },
  {
   "cell_type": "code",
   "execution_count": null,
   "id": "6619602c-3f91-4427-ad40-e2a9a5480a88",
   "metadata": {},
   "outputs": [],
   "source": []
  }
 ],
 "metadata": {
  "kernelspec": {
   "display_name": "anaconda-panel-2023.05-py310",
   "language": "python",
   "name": "conda-env-anaconda-panel-2023.05-py310-py"
  },
  "language_info": {
   "codemirror_mode": {
    "name": "ipython",
    "version": 3
   },
   "file_extension": ".py",
   "mimetype": "text/x-python",
   "name": "python",
   "nbconvert_exporter": "python",
   "pygments_lexer": "ipython3",
   "version": "3.11.5"
  }
 },
 "nbformat": 4,
 "nbformat_minor": 5
}
