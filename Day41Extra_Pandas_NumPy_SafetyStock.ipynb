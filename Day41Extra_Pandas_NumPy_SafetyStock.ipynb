{
 "cells": [
  {
   "cell_type": "code",
   "execution_count": 6,
   "id": "06c06df1-0b32-4e15-b16e-292d2e877e4b",
   "metadata": {},
   "outputs": [
    {
     "name": "stdout",
     "output_type": "stream",
     "text": [
      "          SKU  Stock  ReorderLevel  Price  Warehouse\n",
      "0      Laptop    120           100  55000    Chennai\n",
      "1      Mobile     80           120  25000  Bangalore\n",
      "2      Tablet     60            80  18000     Mumbai\n",
      "3     Printer     30            40  15000    Chennai\n",
      "4     Monitor     50            60  12000  Bangalore\n",
      "5    Keyboard    200           100   1500    Chennai\n",
      "6       Mouse    300           150    800     Mumbai\n",
      "7   PowerBank     40            70   2500  Bangalore\n",
      "8  Headphones     20            50   3000    Chennai\n",
      "9  SmartWatch     70           100   5000     Mumbai\n",
      "      SKU  StockValue\n",
      "0  Laptop     6600000\n",
      "1  Mobile     2000000\n",
      "2  Tablet     1080000\n",
      " Stock is less than ReorderLevel Mobile\n",
      " Stock is less than ReorderLevel Tablet\n",
      " Stock is less than ReorderLevel Printer\n",
      " Stock is less than ReorderLevel Monitor\n",
      " Stock is less than ReorderLevel PowerBank\n",
      " Stock is less than ReorderLevel Headphones\n",
      " Stock is less than ReorderLevel SmartWatch\n"
     ]
    }
   ],
   "source": [
    "#Pandas\n",
    "\n",
    "import pandas\n",
    "\n",
    "data = pandas.read_csv(\"inventory.csv\")\n",
    "print(data)\n",
    "\n",
    "data[\"StockValue\"] = data[\"Stock\"] * data[\"Price\"]\n",
    "\n",
    "top3stock = data.sort_values(by=\"StockValue\", ascending=False).head(3)\n",
    "print(top3stock[[\"SKU\", \"StockValue\"]])\n",
    "\n",
    "\n",
    "for index, row in data.iterrows():\n",
    "    if row[\"Stock\"] < row[\"ReorderLevel\"]:\n",
    "        print(f\" Stock is less than ReorderLevel {row['SKU']}\")\n",
    "\n",
    "    \n"
   ]
  },
  {
   "cell_type": "code",
   "execution_count": 10,
   "id": "7cb2995c-6fc2-471c-82bb-07298a43181f",
   "metadata": {},
   "outputs": [
    {
     "name": "stdout",
     "output_type": "stream",
     "text": [
      "mean --> 545.0\n",
      "stddev --> 55.30220007679019\n",
      "Safetystock --> 129.04505027315074\n"
     ]
    }
   ],
   "source": [
    "#Numpy Task\n",
    "\n",
    "import statistics\n",
    "import numpy as np\n",
    "\n",
    "weekly_demand = np.array([480, 520, 450, 610, 590, 560, 500, 530, 620, 580, 490, 610])\n",
    "\n",
    "mean = np.mean(weekly_demand)\n",
    "stddev = np.std(weekly_demand)\n",
    "\n",
    "Z = 1.65\n",
    "lead_time_weeks = 2\n",
    "safetystock = Z * stddev * statistics.sqrt(lead_time_weeks)\n",
    "\n",
    "print(f\"mean --> {mean}\")\n",
    "print(f\"stddev --> {stddev}\")\n",
    "print(f\"Safetystock --> {safetystock}\")\n",
    "\n"
   ]
  },
  {
   "cell_type": "code",
   "execution_count": null,
   "id": "1823328f-9199-4b59-b35a-1271cadb792d",
   "metadata": {},
   "outputs": [],
   "source": []
  }
 ],
 "metadata": {
  "kernelspec": {
   "display_name": "anaconda-panel-2023.05-py310",
   "language": "python",
   "name": "conda-env-anaconda-panel-2023.05-py310-py"
  },
  "language_info": {
   "codemirror_mode": {
    "name": "ipython",
    "version": 3
   },
   "file_extension": ".py",
   "mimetype": "text/x-python",
   "name": "python",
   "nbconvert_exporter": "python",
   "pygments_lexer": "ipython3",
   "version": "3.11.5"
  }
 },
 "nbformat": 4,
 "nbformat_minor": 5
}
